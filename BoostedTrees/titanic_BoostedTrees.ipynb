{
 "cells": [
  {
   "cell_type": "markdown",
   "metadata": {},
   "source": [
    "# Boosted Trees for titanic dataset"
   ]
  },
  {
   "cell_type": "markdown",
   "metadata": {},
   "source": [
    "To facilitate easy comparison with XGBoost I will feed pre-treated numeric-only data into the Boosted trees. As with XGBoost saving and loading the model is part of the exploration"
   ]
  },
  {
   "cell_type": "code",
   "execution_count": 1,
   "metadata": {},
   "outputs": [],
   "source": [
    "import numpy as np\n",
    "import pandas as pd\n",
    "\n",
    "import IPython.display as ipyd\n",
    "\n",
    "import matplotlib as mpl\n",
    "import matplotlib.pyplot as pp\n",
    "import matplotlib.cm as cm\n",
    "import matplotlib.lines as mpl_ls\n",
    "\n",
    "import typing as tp\n",
    "\n",
    "import pickle as pkl\n",
    "\n",
    "import shutil\n",
    "import os\n",
    "import datetime as dt\n",
    "\n",
    "import sklearn as sk\n",
    "import sklearn.metrics as sk_mt\n",
    "\n",
    "import tensorflow as tf\n",
    "import tensorboard as tb\n",
    "import tensorflow.keras as tf_ks\n",
    "\n",
    "import datetime as dt\n",
    "\n",
    "tf.random.set_seed(42)\n",
    "\n",
    "#tf.compat.v1.disable_eager_execution()\n"
   ]
  },
  {
   "cell_type": "markdown",
   "metadata": {},
   "source": [
    "## Prepare logs directory for tensorboard"
   ]
  },
  {
   "cell_type": "code",
   "execution_count": 2,
   "metadata": {},
   "outputs": [],
   "source": [
    "LOGS_BASE_DIR = os.path.join(os.path.abspath('.'), 'logs')\n",
    "\n",
    "try: \n",
    "    os.mkdir(LOGS_BASE_DIR) # ok with already-exists errors\n",
    "except FileExistsError:\n",
    "    pass"
   ]
  },
  {
   "cell_type": "markdown",
   "metadata": {},
   "source": [
    "## Load pre-treated data"
   ]
  },
  {
   "cell_type": "code",
   "execution_count": 3,
   "metadata": {},
   "outputs": [],
   "source": [
    "TRAIN_TEST_PKL_PATH = '../prelims/train_test_data.pkl'\n",
    "\n",
    "with open(TRAIN_TEST_PKL_PATH, 'rb') as fh: \n",
    "    data_dict = pkl.load(fh)\n",
    "    \n",
    "TRAIN_DF = data_dict['TRAIN_DF']\n",
    "TEST_DF = data_dict['TEST_DF']\n",
    "#\n",
    "TRAIN_LABEL_SRS = data_dict['TRAIN_LABEL']\n",
    "TEST_LABEL_SRS = data_dict['TEST_LABEL']"
   ]
  },
  {
   "cell_type": "markdown",
   "metadata": {},
   "source": [
    "### Feature-spec"
   ]
  },
  {
   "cell_type": "markdown",
   "metadata": {},
   "source": [
    "Prepare the schema of the data"
   ]
  },
  {
   "cell_type": "code",
   "execution_count": 4,
   "metadata": {},
   "outputs": [],
   "source": [
    "FEATURE_COLUMNS = []\n",
    "\n",
    "for feat_name in TRAIN_DF.columns:\n",
    "    # choose feature type\n",
    "    val = TRAIN_DF[feat_name].iloc[0]\n",
    "    \n",
    "    if type(val) == float or type(val) == np.float or type(val) == np.float16 or type(val) == np.float32 or type(val) == np.float64:\n",
    "        feat_type = tf.dtypes.float32\n",
    "    elif type(val) == int or type(val) == np.int or type(val) == np.int16 or type(val) == np.int32 or type(val) == np.int64:\n",
    "        feat_type = tf.dtypes.int64 # don't use int32 to avoid problems with example-proto's later\n",
    "    else:\n",
    "        raise Exception(f'Unexpected feature type for {feat_name}')\n",
    "        \n",
    "    # append \n",
    "    FEATURE_COLUMNS.append(\n",
    "        tf.feature_column.numeric_column(\n",
    "            key=feat_name,\n",
    "            shape=(1,),\n",
    "            dtype=feat_type\n",
    "        )\n",
    "    )"
   ]
  },
  {
   "cell_type": "markdown",
   "metadata": {},
   "source": [
    "### Data ingestion"
   ]
  },
  {
   "cell_type": "markdown",
   "metadata": {},
   "source": [
    "Prepare input function that will serve the data to the estimator as a dataset"
   ]
  },
  {
   "cell_type": "code",
   "execution_count": 5,
   "metadata": {},
   "outputs": [],
   "source": [
    "def make_input_fn(\n",
    "    features_df: pd.DataFrame,\n",
    "    labels_srs: pd.Series,\n",
    "    repeat_count: tp.Optional[int]=1, # AKA epoch_count\n",
    "    shuffle: tp.Optional[bool]=False,\n",
    "    batch_size: tp.Optional[int]=-1 # how many observations go into each batch \n",
    ")->tp.Callable[[], tf.data.Dataset]:\n",
    "    \"\"\"\n",
    "    Create and return input_fn. input_fn takes no arguments, and returns dataset with features and labels\n",
    "    when requested\n",
    "    \n",
    "    Arguments:\n",
    "    ----------\n",
    "        features_df:  dataframe of the features to be fed into the dataset\n",
    "        labels_srs:   series to be fed as labels into the dataset\n",
    "        repeat_count: number of times to repeat the data in the dataset before it ends\n",
    "                        Can be used to set the number of training epochs. Set to None for forever repeats\n",
    "        shuffle:      shuffle the data in the dataset\n",
    "        batch_size:   the number of rows, from the input dataframes, that will be passed as a single record\n",
    "                          in the output daatset\n",
    "                          \n",
    "    Returns:\n",
    "    --------\n",
    "        Input funtion\n",
    "    \"\"\"\n",
    "    \n",
    "    def input_fn()->tf.data.Dataset:\n",
    "        # create dataset where each record is a tuple with tensor-row from features_df\n",
    "        # and another tensor with a single value from the corresponding label\n",
    "        dset = tf.data.Dataset.from_tensor_slices( (dict(features_df), labels_srs) )\n",
    "        \n",
    "        if shuffle:\n",
    "            dset = dset.shuffle(buffer_size=len(labels_srs))\n",
    "            \n",
    "        # set number of repeats - useful for train\n",
    "        dset = dset.repeat(repeat_count)\n",
    "        \n",
    "        # batch so that each record contains several rows from the tables\n",
    "        if batch_size > 0:\n",
    "            dset = dset.batch(batch_size)\n",
    "            \n",
    "        return dset\n",
    "    \n",
    "    return input_fn\n",
    "\n",
    "#### prepare the input functions\n",
    "TRAIN_INPUT_FN = make_input_fn(TRAIN_DF, TRAIN_LABEL_SRS, repeat_count=None, batch_size=len(TRAIN_DF))\n",
    "#TEST_INPUT_FN = make_input_fn(TEST_DF, TEST_LABEL_SRS, repeat_count=None, batch_size=len(TEST_DF))"
   ]
  },
  {
   "cell_type": "markdown",
   "metadata": {},
   "source": [
    "## Train BT"
   ]
  },
  {
   "cell_type": "code",
   "execution_count": 6,
   "metadata": {},
   "outputs": [
    {
     "name": "stdout",
     "output_type": "stream",
     "text": [
      "INFO:tensorflow:Using default config.\n",
      "WARNING:tensorflow:Using temporary folder as model directory: /tmp/tmpbx17tpyw\n",
      "INFO:tensorflow:Using config: {'_model_dir': '/tmp/tmpbx17tpyw', '_tf_random_seed': None, '_save_summary_steps': 100, '_save_checkpoints_steps': None, '_save_checkpoints_secs': 600, '_session_config': allow_soft_placement: true\n",
      "graph_options {\n",
      "  rewrite_options {\n",
      "    meta_optimizer_iterations: ONE\n",
      "  }\n",
      "}\n",
      ", '_keep_checkpoint_max': 5, '_keep_checkpoint_every_n_hours': 10000, '_log_step_count_steps': 100, '_train_distribute': None, '_device_fn': None, '_protocol': None, '_eval_distribute': None, '_experimental_distribute': None, '_experimental_max_worker_delay_secs': None, '_session_creation_timeout_secs': 7200, '_service': None, '_cluster_spec': ClusterSpec({}), '_task_type': 'worker', '_task_id': 0, '_global_id_in_cluster': 0, '_master': '', '_evaluation_master': '', '_is_chief': True, '_num_ps_replicas': 0, '_num_worker_replicas': 1}\n",
      "WARNING:tensorflow:From /home/cryo/anaconda3/envs/py36/lib/python3.6/site-packages/tensorflow/python/training/training_util.py:236: Variable.initialized_value (from tensorflow.python.ops.variables) is deprecated and will be removed in a future version.\n",
      "Instructions for updating:\n",
      "Use Variable.read_value. Variables in 2.X are initialized automatically both in eager and graph (inside tf.defun) contexts.\n",
      "INFO:tensorflow:Calling model_fn.\n",
      "INFO:tensorflow:Done calling model_fn.\n",
      "INFO:tensorflow:Create CheckpointSaverHook.\n",
      "WARNING:tensorflow:Issue encountered when serializing resources.\n",
      "Type is unsupported, or the types of the items don't match field type in CollectionDef. Note this is a warning and probably safe to ignore.\n",
      "'_Resource' object has no attribute 'name'\n",
      "INFO:tensorflow:Graph was finalized.\n",
      "INFO:tensorflow:Running local_init_op.\n",
      "INFO:tensorflow:Done running local_init_op.\n",
      "WARNING:tensorflow:Issue encountered when serializing resources.\n",
      "Type is unsupported, or the types of the items don't match field type in CollectionDef. Note this is a warning and probably safe to ignore.\n",
      "'_Resource' object has no attribute 'name'\n",
      "INFO:tensorflow:Calling checkpoint listeners before saving checkpoint 0...\n",
      "INFO:tensorflow:Saving checkpoints for 0 into /tmp/tmpbx17tpyw/model.ckpt.\n",
      "WARNING:tensorflow:Issue encountered when serializing resources.\n",
      "Type is unsupported, or the types of the items don't match field type in CollectionDef. Note this is a warning and probably safe to ignore.\n",
      "'_Resource' object has no attribute 'name'\n",
      "INFO:tensorflow:Calling checkpoint listeners after saving checkpoint 0...\n",
      "INFO:tensorflow:loss = 0.6931475, step = 0\n",
      "WARNING:tensorflow:It seems that global step (tf.train.get_global_step) has not been increased. Current value (could be stable): 0 vs previous value: 0. You could increase the global step by passing tf.train.get_global_step() to Optimizer.apply_gradients or Optimizer.minimize.\n",
      "INFO:tensorflow:global_step/sec: 53.71\n",
      "INFO:tensorflow:loss = 0.19088694, step = 99 (1.863 sec)\n",
      "INFO:tensorflow:Calling checkpoint listeners before saving checkpoint 100...\n",
      "INFO:tensorflow:Saving checkpoints for 100 into /tmp/tmpbx17tpyw/model.ckpt.\n",
      "WARNING:tensorflow:Issue encountered when serializing resources.\n",
      "Type is unsupported, or the types of the items don't match field type in CollectionDef. Note this is a warning and probably safe to ignore.\n",
      "'_Resource' object has no attribute 'name'\n",
      "INFO:tensorflow:Calling checkpoint listeners after saving checkpoint 100...\n",
      "INFO:tensorflow:Loss for final step: 0.19088694.\n"
     ]
    }
   ],
   "source": [
    "## BT estimator\n",
    "BT_EST = tf.estimator.BoostedTreesClassifier(FEATURE_COLUMNS, n_batches_per_layer=1)\n",
    "\n",
    "# set up profiler to record the training process\n",
    "timestamp_str = dt.datetime.now().strftime('%Y_%m_%dT%H_%M_%S')\n",
    "PROFILER_DIR = os.path.join(LOGS_BASE_DIR, f'profiler_{timestamp_str}')\n",
    "\n",
    "tf.profiler.experimental.start(PROFILER_DIR)\n",
    "#\n",
    "with tf.profiler.experimental.Trace(f'titanic_bt_train_{timestamp_str}'):\n",
    "    BT_EST.train(TRAIN_INPUT_FN, max_steps=100)\n",
    "#\n",
    "tf.profiler.experimental.stop()\n",
    "\n",
    "# evaluate result\n",
    "#BT_RESULT = BT_EST.evaluate(TEST_INPUT_FN)"
   ]
  },
  {
   "cell_type": "markdown",
   "metadata": {},
   "source": [
    "## Save model"
   ]
  },
  {
   "cell_type": "markdown",
   "metadata": {},
   "source": [
    "Serving models goes through `Example` to serialize and deserialze features. I therefore need to prepare feature spec in terms of dicst str->`tf.io.FixedLenFeature`"
   ]
  },
  {
   "cell_type": "code",
   "execution_count": 7,
   "metadata": {},
   "outputs": [],
   "source": [
    "FEATURE_SPEC_DICT = {\n",
    "    fc.key: tf.io.FixedLenFeature(shape=fc.shape, dtype=fc.dtype, default_value=fc.default_value)\n",
    "    for fc in FEATURE_COLUMNS\n",
    "}"
   ]
  },
  {
   "cell_type": "markdown",
   "metadata": {},
   "source": [
    "Once we have feature spec in terms of `FixedLenFeature`/`VarLenFeature`, we can use the [`build_parsing_serving_input_receiver_fn`](https://www.tensorflow.org/api_docs/python/tf/estimator/export/build_parsing_serving_input_receiver_fn) to build the `serving_input_receiver_fn`. \n",
    "\n",
    "`serving_input_receiver_fn` takes no arguments but returns three outputs designed for lazy evaluation. The first one is a dictionary str->tensor that maps feature names to a specific tensor. The tensor itself is not evaluated, instead it is the output of parsing example-proto contained in the place-holder string tensor. The second output is the string tensor placeholder.\n",
    "\n",
    "The approach is to call `serving_input_receiver_fn` connect its second output, the placeholder, to the source of example-protibuf strings, and then connect its first output to the model. This will be done by the TF code itself\n",
    "\n",
    "This will allow building a graph that connects the model directly to the example protobuf strings, thus leading to language-agnotic graph"
   ]
  },
  {
   "cell_type": "code",
   "execution_count": 8,
   "metadata": {},
   "outputs": [],
   "source": [
    "serving_input_receiver_fn = tf.estimator.export.build_parsing_serving_input_receiver_fn(\n",
    "    FEATURE_SPEC_DICT, #\n",
    "    default_batch_size=None\n",
    ")"
   ]
  },
  {
   "cell_type": "markdown",
   "metadata": {},
   "source": [
    "Prepapre space for the saved model"
   ]
  },
  {
   "cell_type": "code",
   "execution_count": 9,
   "metadata": {},
   "outputs": [],
   "source": [
    "BT_MODEL_BASE_PATH = os.path.join(os.path.abspath('.'), 'bt_saved_model')\n",
    "shutil.rmtree(BT_MODEL_BASE_PATH, ignore_errors=True)\n",
    "os.mkdir(BT_MODEL_BASE_PATH)"
   ]
  },
  {
   "cell_type": "markdown",
   "metadata": {},
   "source": [
    "Save model"
   ]
  },
  {
   "cell_type": "code",
   "execution_count": 10,
   "metadata": {},
   "outputs": [
    {
     "name": "stdout",
     "output_type": "stream",
     "text": [
      "INFO:tensorflow:Calling model_fn.\n",
      "INFO:tensorflow:Done calling model_fn.\n",
      "WARNING:tensorflow:From /home/cryo/anaconda3/envs/py36/lib/python3.6/site-packages/tensorflow/python/saved_model/signature_def_utils_impl.py:145: build_tensor_info (from tensorflow.python.saved_model.utils_impl) is deprecated and will be removed in a future version.\n",
      "Instructions for updating:\n",
      "This function will only be available through the v1 compatibility library as tf.compat.v1.saved_model.utils.build_tensor_info or tf.compat.v1.saved_model.build_tensor_info.\n",
      "INFO:tensorflow:Signatures INCLUDED in export for Classify: ['serving_default', 'classification']\n",
      "INFO:tensorflow:Signatures INCLUDED in export for Regress: ['regression']\n",
      "INFO:tensorflow:Signatures INCLUDED in export for Predict: ['predict']\n",
      "INFO:tensorflow:Signatures INCLUDED in export for Train: None\n",
      "INFO:tensorflow:Signatures INCLUDED in export for Eval: None\n",
      "INFO:tensorflow:Restoring parameters from /tmp/tmpbx17tpyw/model.ckpt-100\n",
      "INFO:tensorflow:Assets added to graph.\n",
      "INFO:tensorflow:No assets to write.\n",
      "WARNING:tensorflow:Issue encountered when serializing resources.\n",
      "Type is unsupported, or the types of the items don't match field type in CollectionDef. Note this is a warning and probably safe to ignore.\n",
      "'_Resource' object has no attribute 'name'\n",
      "INFO:tensorflow:SavedModel written to: /home/cryo/Documents/github/titanic/BoostedTrees/bt_saved_model/temp-1612138728/saved_model.pb\n"
     ]
    }
   ],
   "source": [
    "BT_MODEL_PATH = BT_EST.export_saved_model(\n",
    "    export_dir_base=BT_MODEL_BASE_PATH,\n",
    "    serving_input_receiver_fn=serving_input_receiver_fn\n",
    ")"
   ]
  },
  {
   "cell_type": "markdown",
   "metadata": {},
   "source": [
    "## Loading the model"
   ]
  },
  {
   "cell_type": "code",
   "execution_count": 11,
   "metadata": {},
   "outputs": [],
   "source": [
    "LOADED_EST = tf.saved_model.load(BT_MODEL_PATH)"
   ]
  },
  {
   "cell_type": "markdown",
   "metadata": {},
   "source": [
    "will need to feed data as examples to the model"
   ]
  },
  {
   "cell_type": "code",
   "execution_count": 12,
   "metadata": {},
   "outputs": [],
   "source": [
    "def df_row_to_example(\n",
    "    src_df: pd.DataFrame,\n",
    "    src_row: int\n",
    ")->tf.train.Example:\n",
    "    \"\"\"\n",
    "    Given pandas dataframe and row convert it to example_pb2. Tried with series (row at a time) initially, \n",
    "    but series tend to make integer-valued features into floating point ones, which then clashes with \n",
    "    spec expected by the model (encoded in serving_input_receiver)\n",
    "    \n",
    "    arguments:\n",
    "    ---------\n",
    "        src_df: source dataframe\n",
    "        src_row: index of the source row\n",
    "        \n",
    "    returns:\n",
    "    --------\n",
    "        example protobuf\n",
    "    \"\"\"\n",
    "    \n",
    "    feature_dict = {}\n",
    "    \n",
    "    # go though each value and add it to the example as float or int\n",
    "    for name in src_df.columns:\n",
    "        val = src_df[name].iloc[src_row]\n",
    "        \n",
    "        if type(val) == float or type(val) == np.float or type(val) == np.float16 or type(val) == np.float32 or type(val) == np.float64:\n",
    "            float_feature = tf.train.Feature(float_list=tf.train.FloatList(value=[val]))\n",
    "            feature_dict[name] = float_feature\n",
    "            \n",
    "        elif type(val) == int or type(val) == np.int or type(val) == np.int16 or type(val) == np.int32 or type(val) == np.int64:\n",
    "            int64_feature = tf.train.Feature(int64_list=tf.train.Int64List(value=[val]))\n",
    "            feature_dict[name] = int64_feature\n",
    "            \n",
    "        else:\n",
    "            print(f'Skipping {name}')\n",
    "\n",
    "    # convert the dictionary of features to example_pb2 and return\n",
    "    example_pb = tf.train.Example(features=tf.train.Features(feature=feature_dict))\n",
    "    #\n",
    "    return example_pb"
   ]
  },
  {
   "cell_type": "markdown",
   "metadata": {},
   "source": [
    "Now convert serialized example strings to predictions"
   ]
  },
  {
   "cell_type": "code",
   "execution_count": 13,
   "metadata": {},
   "outputs": [],
   "source": [
    "# serialize all rows to examples\n",
    "example_pb2_list = [df_row_to_example(TEST_DF, i_row).SerializeToString() for i_row in range(len(TEST_DF))] \n",
    "\n",
    "# predict\n",
    "pred_res = LOADED_EST.signatures['predict'](tf.constant(example_pb2_list))\n",
    "\n",
    "# extract as series (so it matches with the rest of the code)\n",
    "PRED_PROBA_SRS = pd.Series(pred_res['probabilities'].numpy()[:,1])\n",
    "PRED_PROBA_SRS.name = 'Survived'"
   ]
  },
  {
   "cell_type": "markdown",
   "metadata": {},
   "source": [
    "plot precision and recall"
   ]
  },
  {
   "cell_type": "code",
   "execution_count": 14,
   "metadata": {},
   "outputs": [
    {
     "data": {
      "text/plain": [
       "(-0.05, 1.05)"
      ]
     },
     "execution_count": 14,
     "metadata": {},
     "output_type": "execute_result"
    },
    {
     "data": {
      "image/png": "[encoded data removed]",
      "text/plain": [
       "<Figure size 576x864 with 2 Axes>"
      ]
     },
     "metadata": {
      "needs_background": "light"
     },
     "output_type": "display_data"
    }
   ],
   "source": [
    "fig, ax = pp.subplots(2, 1, figsize=(8, 12))\n",
    "\n",
    "bins = np.linspace(0, 1, 21)\n",
    "#\n",
    "ax[0].hist(PRED_PROBA_SRS[(TEST_LABEL_SRS==0).values], bins=bins, label='perished', alpha=0.5)\n",
    "ax[0].hist(PRED_PROBA_SRS[(TEST_LABEL_SRS==1).values], bins=bins, label='survived', alpha=0.5)\n",
    "ax[0].set_xlabel('probability score')\n",
    "ax[0].set_ylabel('counts')\n",
    "ax[0].legend()\n",
    "ax[0].grid()\n",
    "\n",
    "# precision-recall curve\n",
    "precision, recall, thresholds = sk_mt.precision_recall_curve(TEST_LABEL_SRS, PRED_PROBA_SRS)\n",
    "ax[1].plot(recall, precision, '.-', label='vanilla BT')\n",
    "\n",
    "# get naive classifiers\n",
    "NAIVE_CLASSIFIERS_DF = pd.read_pickle('../prelims/naive_precision_recall.pkl')\n",
    "ax[1].plot(NAIVE_CLASSIFIERS_DF.recall, NAIVE_CLASSIFIERS_DF.precision, 'o', label='naive classifiers')\n",
    "\n",
    "# get xgboost vanilla results\n",
    "with open('../XGBoost/vanilla_xgb.pkl', 'rb') as fh:\n",
    "    XGB_VANILLA_DICT = pkl.load(fh)\n",
    "\n",
    "xgb_precision, xgb_recall, thresholds = sk_mt.precision_recall_curve(\n",
    "    XGB_VANILLA_DICT['TEST_LABEL_SRS'],\n",
    "    XGB_VANILLA_DICT['PRED_PROBA_SRS']\n",
    ")\n",
    "ax[1].plot(xgb_recall, xgb_precision, '.-', label='vanilla XGB')\n",
    "    \n",
    "ax[1].set_xlabel('recall')\n",
    "ax[1].set_ylabel('precision')\n",
    "ax[1].legend()\n",
    "ax[1].grid()\n",
    "ax[1].set_xlim([-0.05, 1.05])\n",
    "ax[1].set_ylim([-0.05, 1.05])"
   ]
  },
  {
   "cell_type": "code",
   "execution_count": 20,
   "metadata": {},
   "outputs": [],
   "source": [
    "# save precision and recall for comparisons in hyper-parameter tuning\n",
    "\n",
    "with open('vanilla_precision_recall.pkl', 'wb') as fh:\n",
    "    i_order = np.argsort(recall)\n",
    "    pkl.dump({'precision': precision[i_order], 'recall': recall[i_order]}, fh)"
   ]
  },
  {
   "cell_type": "markdown",
   "metadata": {},
   "source": [
    "## Feature importances"
   ]
  },
  {
   "cell_type": "markdown",
   "metadata": {},
   "source": [
    "Get feature importances and compare to XGB"
   ]
  },
  {
   "cell_type": "code",
   "execution_count": 16,
   "metadata": {},
   "outputs": [],
   "source": [
    "with open('../XGBoost/xgb_feature_imp.pkl', 'rb') as fh:\n",
    "    XGB_feat_imp_dd = pkl.load(fh)"
   ]
  },
  {
   "cell_type": "code",
   "execution_count": 17,
   "metadata": {},
   "outputs": [],
   "source": [
    "BT_feat_imp_dict = BT_EST.experimental_feature_importances(normalize=True)"
   ]
  },
  {
   "cell_type": "code",
   "execution_count": 18,
   "metadata": {},
   "outputs": [],
   "source": [
    "feat_imp_dict_list = []\n",
    "\n",
    "for key in BT_feat_imp_dict.keys():\n",
    "    feat_imp_dict_list.append({\n",
    "        'feature': key,\n",
    "        'xgb_gain': XGB_feat_imp_dd[\"gain\"][key],\n",
    "        'xgb_weight': XGB_feat_imp_dd[\"weight\"][key],\n",
    "        'bt_feat_imp': BT_feat_imp_dict[key]\n",
    "    })\n",
    "    \n",
    "FEAT_IMP_DF = pd.DataFrame(feat_imp_dict_list)\n",
    "\n",
    "# normalize each col to max\n",
    "FEAT_IMP_DF = FEAT_IMP_DF.assign(\n",
    "    xgb_gain=lambda old_df: old_df.xgb_gain/old_df.xgb_gain.max(),\n",
    "    xgb_weight=lambda old_df: old_df.xgb_weight/old_df.xgb_weight.max(),\n",
    "    bt_feat_imp=lambda old_df: old_df.bt_feat_imp/old_df.bt_feat_imp.max(),\n",
    ") "
   ]
  },
  {
   "cell_type": "code",
   "execution_count": 19,
   "metadata": {},
   "outputs": [
    {
     "data": {
      "text/plain": [
       "<matplotlib.legend.Legend at 0x7fa4a8455d30>"
      ]
     },
     "execution_count": 19,
     "metadata": {},
     "output_type": "execute_result"
    },
    {
     "data": {
      "image/png": "[encoded data removed]",
      "text/plain": [
       "<Figure size 720x828 with 1 Axes>"
      ]
     },
     "metadata": {
      "needs_background": "light"
     },
     "output_type": "display_data"
    }
   ],
   "source": [
    "fig, ax = pp.subplots(figsize=(10, 0.5*len(FEAT_IMP_DF)))\n",
    "\n",
    "\n",
    "spacing = 3\n",
    "height = 0.5\n",
    "inter_bar_spacing = 0.6\n",
    "\n",
    "vert_pos_range = np.arange(0, spacing*len(FEAT_IMP_DF), spacing)\n",
    "\n",
    "for i_row, (_, row) in enumerate(FEAT_IMP_DF.iterrows()):\n",
    "    \n",
    "    ax.barh(vert_pos_range[i_row]+inter_bar_spacing, row.xgb_gain, height=height, color=cm.tab10(0))\n",
    "    ax.barh(vert_pos_range[i_row], row.xgb_weight, height=height, color=cm.tab10(1))\n",
    "    ax.barh(vert_pos_range[i_row]-inter_bar_spacing, row.bt_feat_imp, height=height, color=cm.tab10(2))\n",
    "    \n",
    "#\n",
    "\n",
    "ax.set_ylim([vert_pos_range.min()-spacing, vert_pos_range.max()+spacing])\n",
    "ax.set_yticks(vert_pos_range)\n",
    "_ = ax.set_yticklabels(FEAT_IMP_DF.feature)\n",
    "\n",
    "### custom legend\n",
    "custom_lines = [mpl_ls.Line2D([0], [0], color=cm.tab10(0), lw=4),\n",
    "                mpl_ls.Line2D([0], [0], color=cm.tab10(1), lw=4),\n",
    "                mpl_ls.Line2D([0], [0], color=cm.tab10(2), lw=4)]\n",
    "ax.legend(custom_lines, ['XGB_gain', 'XGB_weight', 'BT'])"
   ]
  },
  {
   "cell_type": "markdown",
   "metadata": {},
   "source": [
    "It is interesting to not that there are significant differences in feature importances between Boosted Trees and XGB. Could be a good idea to try to combine these models"
   ]
  },
  {
   "cell_type": "code",
   "execution_count": null,
   "metadata": {},
   "outputs": [],
   "source": []
  }
 ],
 "metadata": {
  "kernelspec": {
   "display_name": "Python 3",
   "language": "python",
   "name": "python3"
  },
  "language_info": {
   "codemirror_mode": {
    "name": "ipython",
    "version": 3
   },
   "file_extension": ".py",
   "mimetype": "text/x-python",
   "name": "python",
   "nbconvert_exporter": "python",
   "pygments_lexer": "ipython3",
   "version": "3.6.10"
  }
 },
 "nbformat": 4,
 "nbformat_minor": 4
}
