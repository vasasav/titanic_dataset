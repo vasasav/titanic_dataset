{
 "cells": [
  {
   "cell_type": "markdown",
   "metadata": {},
   "source": [
    "# Exploring the graph of Boosted Trees"
   ]
  },
  {
   "cell_type": "markdown",
   "metadata": {},
   "source": [
    "In order to experiment with the graph of boosted trees, here I will build very simple classification problems and experiment to see how models will be trained to predict on them"
   ]
  },
  {
   "cell_type": "code",
   "execution_count": 1,
   "metadata": {},
   "outputs": [],
   "source": [
    "import numpy as np\n",
    "import numpy.random as npr\n",
    "import pandas as pd\n",
    "\n",
    "import matplotlib as mpl\n",
    "import matplotlib.pyplot as pp\n",
    "import matplotlib.cm as cm\n",
    "\n",
    "import sklearn as sk\n",
    "\n",
    "import tensorflow as tf\n",
    "\n",
    "import os\n",
    "import shutil\n",
    "\n",
    "import typing as tp\n",
    "\n",
    "import datetime as dt"
   ]
  },
  {
   "cell_type": "markdown",
   "metadata": {},
   "source": [
    "## Prepare logs directory"
   ]
  },
  {
   "cell_type": "code",
   "execution_count": 2,
   "metadata": {},
   "outputs": [],
   "source": [
    "LOGS_BASE_DIR = os.path.join(os.path.abspath('.'), 'logs')\n",
    "\n",
    "try: \n",
    "    os.mkdir(LOGS_BASE_DIR) # ok with already-exists errors\n",
    "except FileExistsError:\n",
    "    pass"
   ]
  },
  {
   "cell_type": "markdown",
   "metadata": {},
   "source": [
    "## 1D classification problem"
   ]
  },
  {
   "cell_type": "code",
   "execution_count": 3,
   "metadata": {},
   "outputs": [
    {
     "data": {
      "text/plain": [
       "Text(0, 0.5, 'Y')"
      ]
     },
     "execution_count": 3,
     "metadata": {},
     "output_type": "execute_result"
    },
    {
     "data": {
      "image/png": "[encoded data removed]",
      "text/plain": [
       "<Figure size 504x360 with 1 Axes>"
      ]
     },
     "metadata": {
      "needs_background": "light"
     },
     "output_type": "display_data"
    }
   ],
   "source": [
    "Y_CALC_FN = lambda x: x*x-1\n",
    "Y_CLASSIFY_FN = lambda x: Y_CALC_FN(x)>0\n",
    "\n",
    "X_TRAIN = (2*npr.random(500)-1)*10\n",
    "Y_TRAIN = Y_CLASSIFY_FN(X_TRAIN)\n",
    "#\n",
    "X_TEST = (2*npr.random(500)-1)*10\n",
    "Y_TEST = Y_CLASSIFY_FN(X_TEST)\n",
    "\n",
    "\n",
    "#\n",
    "fig, ax = pp.subplots(figsize=(7, 5))\n",
    "ax.plot(X_TRAIN, Y_TRAIN, '.')\n",
    "ax.set_xlabel('X')\n",
    "ax.set_ylabel('Y')"
   ]
  },
  {
   "cell_type": "markdown",
   "metadata": {},
   "source": [
    "## Model prep"
   ]
  },
  {
   "cell_type": "markdown",
   "metadata": {},
   "source": [
    "### Feature spec"
   ]
  },
  {
   "cell_type": "code",
   "execution_count": 4,
   "metadata": {},
   "outputs": [],
   "source": [
    "FEATURE_COLUMNS = [\n",
    "    tf.feature_column.numeric_column(key='X', shape=(1,), dtype=tf.dtypes.float32)\n",
    "]"
   ]
  },
  {
   "cell_type": "markdown",
   "metadata": {},
   "source": [
    "### Data ingestion"
   ]
  },
  {
   "cell_type": "code",
   "execution_count": 5,
   "metadata": {},
   "outputs": [],
   "source": [
    "def make_input_fn(\n",
    "    X: np.array, \n",
    "    y: np.array, \n",
    "    repeat_count: tp.Optional[int]=1\n",
    ")->tp.Callable[[], tf.data.Dataset]:\n",
    "    \"\"\"\n",
    "    Take data from X and y, package into dataset with batches that include the \n",
    "    full dataset and set to repeat\n",
    "    \n",
    "    Will be fed to model trainer\n",
    "    \"\"\"\n",
    "    \n",
    "    ####\n",
    "    def input_fn():\n",
    "        dset = tf.data.Dataset.from_tensor_slices(({'X': X}, y))\n",
    "        dset = dset.repeat(repeat_count)\n",
    "        dset = dset.batch(len(X))\n",
    "        \n",
    "        return dset\n",
    "    ####\n",
    "    \n",
    "    return input_fn\n",
    "\n",
    "### prepare data ingestion functions\n",
    "TRAIN_INPUT_FN = make_input_fn(X_TRAIN, Y_TRAIN, repeat_count=None)\n",
    "TEST_INPUT_FN = make_input_fn(X_TEST, Y_TEST, repeat_count=1)"
   ]
  },
  {
   "cell_type": "markdown",
   "metadata": {},
   "source": [
    "### Model training"
   ]
  },
  {
   "cell_type": "markdown",
   "metadata": {},
   "source": [
    "Can also use profiler to check out the training on tensorboard"
   ]
  },
  {
   "cell_type": "code",
   "execution_count": 6,
   "metadata": {},
   "outputs": [
    {
     "name": "stdout",
     "output_type": "stream",
     "text": [
      "INFO:tensorflow:Using default config.\n",
      "WARNING:tensorflow:Using temporary folder as model directory: /tmp/tmph3ox0def\n",
      "INFO:tensorflow:Using config: {'_model_dir': '/tmp/tmph3ox0def', '_tf_random_seed': None, '_save_summary_steps': 100, '_save_checkpoints_steps': None, '_save_checkpoints_secs': 600, '_session_config': allow_soft_placement: true\n",
      "graph_options {\n",
      "  rewrite_options {\n",
      "    meta_optimizer_iterations: ONE\n",
      "  }\n",
      "}\n",
      ", '_keep_checkpoint_max': 5, '_keep_checkpoint_every_n_hours': 10000, '_log_step_count_steps': 100, '_train_distribute': None, '_device_fn': None, '_protocol': None, '_eval_distribute': None, '_experimental_distribute': None, '_experimental_max_worker_delay_secs': None, '_session_creation_timeout_secs': 7200, '_service': None, '_cluster_spec': ClusterSpec({}), '_task_type': 'worker', '_task_id': 0, '_global_id_in_cluster': 0, '_master': '', '_evaluation_master': '', '_is_chief': True, '_num_ps_replicas': 0, '_num_worker_replicas': 1}\n",
      "WARNING:tensorflow:From /home/cryo/anaconda3/envs/py36/lib/python3.6/site-packages/tensorflow/python/training/training_util.py:236: Variable.initialized_value (from tensorflow.python.ops.variables) is deprecated and will be removed in a future version.\n",
      "Instructions for updating:\n",
      "Use Variable.read_value. Variables in 2.X are initialized automatically both in eager and graph (inside tf.defun) contexts.\n",
      "INFO:tensorflow:Calling model_fn.\n",
      "INFO:tensorflow:Done calling model_fn.\n",
      "INFO:tensorflow:Create CheckpointSaverHook.\n",
      "WARNING:tensorflow:Issue encountered when serializing resources.\n",
      "Type is unsupported, or the types of the items don't match field type in CollectionDef. Note this is a warning and probably safe to ignore.\n",
      "'_Resource' object has no attribute 'name'\n",
      "INFO:tensorflow:Graph was finalized.\n",
      "INFO:tensorflow:Running local_init_op.\n",
      "INFO:tensorflow:Done running local_init_op.\n",
      "WARNING:tensorflow:Issue encountered when serializing resources.\n",
      "Type is unsupported, or the types of the items don't match field type in CollectionDef. Note this is a warning and probably safe to ignore.\n",
      "'_Resource' object has no attribute 'name'\n",
      "INFO:tensorflow:Calling checkpoint listeners before saving checkpoint 0...\n",
      "INFO:tensorflow:Saving checkpoints for 0 into /tmp/tmph3ox0def/model.ckpt.\n",
      "WARNING:tensorflow:Issue encountered when serializing resources.\n",
      "Type is unsupported, or the types of the items don't match field type in CollectionDef. Note this is a warning and probably safe to ignore.\n",
      "'_Resource' object has no attribute 'name'\n",
      "INFO:tensorflow:Calling checkpoint listeners after saving checkpoint 0...\n",
      "INFO:tensorflow:loss = 0.6931475, step = 0\n",
      "WARNING:tensorflow:It seems that global step (tf.train.get_global_step) has not been increased. Current value (could be stable): 0 vs previous value: 0. You could increase the global step by passing tf.train.get_global_step() to Optimizer.apply_gradients or Optimizer.minimize.\n",
      "INFO:tensorflow:Calling checkpoint listeners before saving checkpoint 10...\n",
      "INFO:tensorflow:Saving checkpoints for 10 into /tmp/tmph3ox0def/model.ckpt.\n",
      "WARNING:tensorflow:Issue encountered when serializing resources.\n",
      "Type is unsupported, or the types of the items don't match field type in CollectionDef. Note this is a warning and probably safe to ignore.\n",
      "'_Resource' object has no attribute 'name'\n",
      "INFO:tensorflow:Calling checkpoint listeners after saving checkpoint 10...\n",
      "INFO:tensorflow:Loss for final step: 0.22947042.\n"
     ]
    }
   ],
   "source": [
    "## BT estimator\n",
    "BT_EST = tf.estimator.BoostedTreesClassifier(\n",
    "    FEATURE_COLUMNS, \n",
    "    n_batches_per_layer=1,\n",
    "    n_trees=3,\n",
    "    max_depth=12\n",
    ")\n",
    "\n",
    "# train and record profile info\n",
    "# access on tensorboard using ```tensorboard --logdir logs```\n",
    "# may have to select the PROFILE setting in the web-api interface \n",
    "timestamp_str = dt.datetime.now().strftime('%Y_%m_%dT%H_%M_%S')\n",
    "PROFILER_DIR = os.path.join(LOGS_BASE_DIR, f'profiler_{timestamp_str}')\n",
    "\n",
    "tf.profiler.experimental.start(PROFILER_DIR)\n",
    "#\n",
    "with tf.profiler.experimental.Trace(f'simple_boosted_trees_train_{timestamp_str}'):\n",
    "    BT_EST.train(TRAIN_INPUT_FN, max_steps=10)\n",
    "#\n",
    "tf.profiler.experimental.stop()"
   ]
  },
  {
   "cell_type": "markdown",
   "metadata": {},
   "source": [
    "### Save model"
   ]
  },
  {
   "cell_type": "markdown",
   "metadata": {},
   "source": [
    "Clean up if needed:"
   ]
  },
  {
   "cell_type": "code",
   "execution_count": 7,
   "metadata": {},
   "outputs": [],
   "source": [
    "BT_MODEL_BASE_PATH = os.path.join(os.path.abspath('.'), 'bt_saved_model')\n",
    "shutil.rmtree(BT_MODEL_BASE_PATH, ignore_errors=True)\n",
    "os.mkdir(BT_MODEL_BASE_PATH)"
   ]
  },
  {
   "cell_type": "markdown",
   "metadata": {},
   "source": [
    "Now save the model"
   ]
  },
  {
   "cell_type": "code",
   "execution_count": 8,
   "metadata": {},
   "outputs": [
    {
     "name": "stdout",
     "output_type": "stream",
     "text": [
      "INFO:tensorflow:Calling model_fn.\n",
      "INFO:tensorflow:Done calling model_fn.\n",
      "WARNING:tensorflow:From /home/cryo/anaconda3/envs/py36/lib/python3.6/site-packages/tensorflow/python/saved_model/signature_def_utils_impl.py:145: build_tensor_info (from tensorflow.python.saved_model.utils_impl) is deprecated and will be removed in a future version.\n",
      "Instructions for updating:\n",
      "This function will only be available through the v1 compatibility library as tf.compat.v1.saved_model.utils.build_tensor_info or tf.compat.v1.saved_model.build_tensor_info.\n",
      "INFO:tensorflow:Signatures INCLUDED in export for Classify: ['serving_default', 'classification']\n",
      "INFO:tensorflow:Signatures INCLUDED in export for Regress: ['regression']\n",
      "INFO:tensorflow:Signatures INCLUDED in export for Predict: ['predict']\n",
      "INFO:tensorflow:Signatures INCLUDED in export for Train: None\n",
      "INFO:tensorflow:Signatures INCLUDED in export for Eval: None\n",
      "INFO:tensorflow:Restoring parameters from /tmp/tmph3ox0def/model.ckpt-10\n",
      "INFO:tensorflow:Assets added to graph.\n",
      "INFO:tensorflow:No assets to write.\n",
      "WARNING:tensorflow:Issue encountered when serializing resources.\n",
      "Type is unsupported, or the types of the items don't match field type in CollectionDef. Note this is a warning and probably safe to ignore.\n",
      "'_Resource' object has no attribute 'name'\n",
      "INFO:tensorflow:SavedModel written to: /home/cryo/Documents/github/titanic/BoostedTrees/bt_saved_model/temp-1611960313/saved_model.pb\n"
     ]
    }
   ],
   "source": [
    "# prepare feature spec suitable for tf.Example\n",
    "FEATURE_SPEC_DICT = {\n",
    "    fc.key: tf.io.FixedLenFeature(shape=fc.shape, dtype=fc.dtype, default_value=fc.default_value)\n",
    "    for fc in FEATURE_COLUMNS\n",
    "}\n",
    "\n",
    "# prepare serving_input_receiver_fn to link serialized tf.example to tensors expected by the model\n",
    "serving_input_receiver_fn = tf.estimator.export.build_parsing_serving_input_receiver_fn(\n",
    "    FEATURE_SPEC_DICT, #\n",
    "    default_batch_size=None\n",
    ")\n",
    "\n",
    "# now ready to save the model\n",
    "BT_MODEL_BASE_PATH = os.path.join(os.path.abspath('.'), 'bt_saved_model')\n",
    "#\n",
    "BT_MODEL_PATH = BT_EST.export_saved_model(\n",
    "    export_dir_base=BT_MODEL_BASE_PATH,\n",
    "    serving_input_receiver_fn=serving_input_receiver_fn\n",
    ")"
   ]
  },
  {
   "cell_type": "markdown",
   "metadata": {},
   "source": [
    "### Load the model & look at the graph"
   ]
  },
  {
   "cell_type": "code",
   "execution_count": 9,
   "metadata": {},
   "outputs": [],
   "source": [
    "LOADED_EST = tf.saved_model.load(BT_MODEL_PATH)"
   ]
  },
  {
   "cell_type": "markdown",
   "metadata": {},
   "source": [
    "Define function to convert floats to example_pb2"
   ]
  },
  {
   "cell_type": "code",
   "execution_count": 10,
   "metadata": {},
   "outputs": [],
   "source": [
    "def float_X_to_example_pb2(\n",
    "     float_val: float,\n",
    "     feat_name: tp.Optional[str]='X'\n",
    ")->tf.train.Example:\n",
    "    #\n",
    "    return  tf.train.Example(features=tf.train.Features(\n",
    "        feature={feat_name: tf.train.Feature(\n",
    "                                float_list=tf.train.FloatList(value=[float_val])\n",
    "        )}\n",
    "    ))"
   ]
  },
  {
   "cell_type": "markdown",
   "metadata": {},
   "source": [
    "Test predictions"
   ]
  },
  {
   "cell_type": "code",
   "execution_count": 11,
   "metadata": {},
   "outputs": [
    {
     "data": {
      "text/plain": [
       "0.8137045"
      ]
     },
     "execution_count": 11,
     "metadata": {},
     "output_type": "execute_result"
    }
   ],
   "source": [
    "example_pb2_list = [float_X_to_example_pb2(val).SerializeToString() for val in X_TEST] \n",
    "\n",
    "# test predictions\n",
    "pred_res = LOADED_EST.signatures['predict'](tf.constant(example_pb2_list))\n",
    "pred_res['probabilities'].numpy()[0, 1]"
   ]
  },
  {
   "cell_type": "markdown",
   "metadata": {},
   "source": [
    "Examine graph"
   ]
  },
  {
   "cell_type": "code",
   "execution_count": 12,
   "metadata": {},
   "outputs": [
    {
     "name": "stdout",
     "output_type": "stream",
     "text": [
      "name: \"global_step/Initializer/zeros\"\n",
      "op: \"Const\"\n",
      "attr {\n",
      "  key: \"_class\"\n",
      "  value {\n",
      "    list {\n",
      "      s: \"loc:@global_step\"\n",
      "    }\n",
      "  }\n",
      "}\n",
      "attr {\n",
      "  key: \"dtype\"\n",
      "  value {\n",
      "    type: DT_INT64\n",
      "  }\n",
      "}\n",
      "attr {\n",
      "  key: \"value\"\n",
      "  value {\n",
      "    tensor {\n",
      "      dtype: DT_INT64\n",
      "      tensor_shape {\n",
      "      }\n",
      "      int64_val: 0\n",
      "    }\n",
      "  }\n",
      "}\n",
      " \n",
      "-------------------\n",
      "\n"
     ]
    }
   ],
   "source": [
    "for i_op, op in enumerate(LOADED_EST.graph.get_operations()):\n",
    "    print(op, '\\n-------------------\\n')\n",
    "    break"
   ]
  },
  {
   "cell_type": "markdown",
   "metadata": {},
   "source": [
    "alternative"
   ]
  },
  {
   "cell_type": "code",
   "execution_count": 13,
   "metadata": {},
   "outputs": [
    {
     "name": "stdout",
     "output_type": "stream",
     "text": [
      "name: \"global_step\"\n",
      "op: \"Placeholder\"\n",
      "attr {\n",
      "  key: \"dtype\"\n",
      "  value {\n",
      "    type: DT_RESOURCE\n",
      "  }\n",
      "}\n",
      "attr {\n",
      "  key: \"shape\"\n",
      "  value {\n",
      "    shape {\n",
      "    }\n",
      "  }\n",
      "}\n",
      " \n",
      "-------------------\n",
      "\n"
     ]
    }
   ],
   "source": [
    "for i_op, op in enumerate(LOADED_EST.signatures['predict'].graph.get_operations()):\n",
    "    print(op, '\\n-------------------\\n')\n",
    "    break"
   ]
  },
  {
   "cell_type": "markdown",
   "metadata": {},
   "source": [
    "Can't go much further than that, internet searches lead to some protobufs for the key operations. Most likely would have to dig C++ code for it. Does not seem to be good documentation for it :-("
   ]
  },
  {
   "cell_type": "markdown",
   "metadata": {},
   "source": [
    "### Tensorboard"
   ]
  },
  {
   "cell_type": "markdown",
   "metadata": {},
   "source": [
    "Can also produce logs suitable for tensorboard"
   ]
  },
  {
   "cell_type": "code",
   "execution_count": 14,
   "metadata": {},
   "outputs": [
    {
     "name": "stdout",
     "output_type": "stream",
     "text": [
      "WARNING:tensorflow:From /home/cryo/anaconda3/envs/py36/lib/python3.6/site-packages/tensorflow/python/ops/summary_ops_v2.py:1277: stop (from tensorflow.python.eager.profiler) is deprecated and will be removed after 2020-07-01.\n",
      "Instructions for updating:\n",
      "use `tf.profiler.experimental.stop` instead.\n",
      "WARNING:tensorflow:From /home/cryo/anaconda3/envs/py36/lib/python3.6/site-packages/tensorflow/python/ops/summary_ops_v2.py:1203: start (from tensorflow.python.eager.profiler) is deprecated and will be removed after 2020-07-01.\n",
      "Instructions for updating:\n",
      "use `tf.profiler.experimental.start` instead.\n",
      "WARNING:tensorflow:From /home/cryo/anaconda3/envs/py36/lib/python3.6/site-packages/tensorflow/python/ops/summary_ops_v2.py:1259: save (from tensorflow.python.eager.profiler) is deprecated and will be removed after 2020-07-01.\n",
      "Instructions for updating:\n",
      "`tf.python.eager.profiler` has deprecated, use `tf.profiler` instead.\n",
      "WARNING:tensorflow:From /home/cryo/anaconda3/envs/py36/lib/python3.6/site-packages/tensorflow/python/eager/profiler.py:151: maybe_create_event_file (from tensorflow.python.eager.profiler) is deprecated and will be removed after 2020-07-01.\n",
      "Instructions for updating:\n",
      "`tf.python.eager.profiler` has deprecated, use `tf.profiler` instead.\n"
     ]
    }
   ],
   "source": [
    "# Set up logging.\n",
    "timestamp_str = dt.datetime.now().strftime('%Y_%m_%dT%H_%M_%S')\n",
    "TB_LOGDIR = os.path.join(LOGS_BASE_DIR, f'summary_{timestamp_str}')\n",
    "summary_writer = tf.summary.create_file_writer(TB_LOGDIR)\n",
    "\n",
    "# seem to need a function for graph to be built\n",
    "@tf.function\n",
    "def pred_call(pred_on):\n",
    "    return LOADED_EST.signatures['predict'](pred_on)['probabilities']\n",
    "\n",
    "\n",
    "# bracket the function call with trace_on & trace_off to read the graph\n",
    "tf.summary.trace_off()\n",
    "tf.summary.trace_on(graph=True, profiler=True)\n",
    "# Call only one tf.function when tracing.\n",
    "pred_call(tf.constant(example_pb2_list))\n",
    "\n",
    "# record the trace int the log-dir that can be then presented to tensorboard\n",
    "# since the top-level of the `logdir` is 'logs' it is sufficient\n",
    "# to call (assuming in the current directory)\n",
    "#    ```\n",
    "#    tensorboard --logdir=logs\n",
    "#    ````\n",
    "#\n",
    "with summary_writer.as_default():\n",
    "  tf.summary.trace_export(\n",
    "      name=\"simplified_bt_model\",\n",
    "      step=0,\n",
    "      profiler_outdir=TB_LOGDIR)\n",
    "tf.summary.trace_off()"
   ]
  },
  {
   "cell_type": "code",
   "execution_count": null,
   "metadata": {},
   "outputs": [],
   "source": []
  },
  {
   "cell_type": "code",
   "execution_count": null,
   "metadata": {},
   "outputs": [],
   "source": []
  }
 ],
 "metadata": {
  "kernelspec": {
   "display_name": "Python 3",
   "language": "python",
   "name": "python3"
  },
  "language_info": {
   "codemirror_mode": {
    "name": "ipython",
    "version": 3
   },
   "file_extension": ".py",
   "mimetype": "text/x-python",
   "name": "python",
   "nbconvert_exporter": "python",
   "pygments_lexer": "ipython3",
   "version": "3.6.10"
  }
 },
 "nbformat": 4,
 "nbformat_minor": 4
}
