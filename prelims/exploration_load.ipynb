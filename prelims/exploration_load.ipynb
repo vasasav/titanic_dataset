{
 "cells": [
  {
   "cell_type": "markdown",
   "metadata": {},
   "source": [
    "# Exploration of the Titanic data set - Load the data"
   ]
  },
  {
   "cell_type": "markdown",
   "metadata": {},
   "source": [
    "Load the Titanic dataset and store it as a pandas dataframe inside picke - for further use"
   ]
  },
  {
   "cell_type": "markdown",
   "metadata": {},
   "source": [
    "### Prelims - Imports"
   ]
  },
  {
   "cell_type": "code",
   "execution_count": 1,
   "metadata": {},
   "outputs": [],
   "source": [
    "import pandas as pd\n",
    "\n",
    "import os\n",
    "\n",
    "import requests as rq\n",
    "\n",
    "import re"
   ]
  },
  {
   "cell_type": "markdown",
   "metadata": {},
   "source": [
    "## Load the data into a local pickle"
   ]
  },
  {
   "cell_type": "markdown",
   "metadata": {},
   "source": [
    "Getting the dataset from https://public.opendatasoft.com/explore/dataset/titanic-passengers/table/"
   ]
  },
  {
   "cell_type": "code",
   "execution_count": 2,
   "metadata": {},
   "outputs": [],
   "source": [
    "CSV_PATH = os.path.join(os.getcwd(), 'titanic_dataset.csv')"
   ]
  },
  {
   "cell_type": "code",
   "execution_count": 3,
   "metadata": {},
   "outputs": [],
   "source": [
    "# request the data as CSV string\n",
    "rq_str = 'https://public.opendatasoft.com/explore/' +\\\n",
    "        'dataset/titanic-passengers/download/?format=csv&' +\\\n",
    "        'timezone=Europe/London&lang=en&use_labels_for_header=true&csv_separator=%3B'\n",
    "#\n",
    "rq_res = rq.get(rq_str)\n",
    "\n",
    "# get the delimiter\n",
    "delim_code = re.search('(?<=csv_separator=%)([A-Fa-f0-9]+)', rq_str)[0]\n",
    "DELIM_STR = bytes.fromhex(delim_code).decode(rq_res.encoding)\n",
    "\n",
    "# if successful save as a local file\n",
    "CSV_STR = None\n",
    "if rq_res.status_code == 200:\n",
    "    CSV_STR = rq_res.content.decode(rq_res.encoding)\n",
    "    \n",
    "    with open(CSV_PATH, 'w') as fh:\n",
    "        fh.write(CSV_STR)\n",
    "else:\n",
    "    raise Exception('Data request unsuccessful')"
   ]
  },
  {
   "cell_type": "markdown",
   "metadata": {},
   "source": [
    "Load into pandas"
   ]
  },
  {
   "cell_type": "code",
   "execution_count": 4,
   "metadata": {},
   "outputs": [
    {
     "name": "stdout",
     "output_type": "stream",
     "text": [
      "Data stored to /home/cryo/Documents/github/titanic/prelims/titanic_dataset.pkl\n"
     ]
    }
   ],
   "source": [
    "TITANIC_DF = pd.read_csv(CSV_PATH, delimiter=DELIM_STR)\n",
    "\n",
    "csv_dir, csv_name = os.path.split(CSV_PATH)\n",
    "PICKLE_PATH = os.path.join(csv_dir, csv_name.split('.')[0]+'.pkl')\n",
    "\n",
    "TITANIC_DF.to_pickle(PICKLE_PATH)\n",
    "print(f'Data stored to {PICKLE_PATH}')"
   ]
  },
  {
   "cell_type": "code",
   "execution_count": null,
   "metadata": {},
   "outputs": [],
   "source": []
  }
 ],
 "metadata": {
  "kernelspec": {
   "display_name": "Python 3",
   "language": "python",
   "name": "python3"
  },
  "language_info": {
   "codemirror_mode": {
    "name": "ipython",
    "version": 3
   },
   "file_extension": ".py",
   "mimetype": "text/x-python",
   "name": "python",
   "nbconvert_exporter": "python",
   "pygments_lexer": "ipython3",
   "version": "3.6.10"
  }
 },
 "nbformat": 4,
 "nbformat_minor": 4
}
