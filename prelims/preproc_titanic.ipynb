{
 "cells": [
  {
   "cell_type": "markdown",
   "metadata": {},
   "source": [
    "# Prepare ready-to go titatnic dataset\n",
    "\n",
    "Building on earlier insights process titanic dataset to make it ready for ML."
   ]
  },
  {
   "cell_type": "markdown",
   "metadata": {},
   "source": [
    "#### Load & definitions"
   ]
  },
  {
   "cell_type": "code",
   "execution_count": 1,
   "metadata": {},
   "outputs": [],
   "source": [
    "import pandas as pd\n",
    "import numpy as np\n",
    "\n",
    "import sklearn.preprocessing as sk_pp\n",
    "import sklearn.model_selection as sk_ms\n",
    "\n",
    "import os\n",
    "\n",
    "import collections as coll\n",
    "\n",
    "import pickle as pkl"
   ]
  },
  {
   "cell_type": "code",
   "execution_count": 2,
   "metadata": {},
   "outputs": [
    {
     "name": "stdout",
     "output_type": "stream",
     "text": [
      "Columns available:\n",
      "\tPassengerId\n",
      "\tSurvived\n",
      "\tPclass\n",
      "\tName\n",
      "\tSex\n",
      "\tAge\n",
      "\tSibSp\n",
      "\tParch\n",
      "\tTicket\n",
      "\tFare\n",
      "\tCabin\n",
      "\tEmbarked\n"
     ]
    }
   ],
   "source": [
    "RAW_CSV_PATH = os.path.join(os.getcwd(), 'titanic_dataset.csv')\n",
    "RAW_DF = pd.read_csv(RAW_CSV_PATH, delimiter=';')\n",
    "\n",
    "print('Columns available:')\n",
    "#\n",
    "for column in RAW_DF.columns:\n",
    "    print(f'\\t{column}')"
   ]
  },
  {
   "cell_type": "markdown",
   "metadata": {},
   "source": [
    "## Build processed dataframe"
   ]
  },
  {
   "cell_type": "code",
   "execution_count": 3,
   "metadata": {},
   "outputs": [],
   "source": [
    "PROC_DF = pd.DataFrame()"
   ]
  },
  {
   "cell_type": "markdown",
   "metadata": {},
   "source": [
    "### Label to binary"
   ]
  },
  {
   "cell_type": "code",
   "execution_count": 4,
   "metadata": {},
   "outputs": [],
   "source": [
    "LABEL_NAME = 'Survived'\n",
    "PROC_DF[LABEL_NAME] = np.array(RAW_DF[LABEL_NAME]=='Yes', dtype=int)"
   ]
  },
  {
   "cell_type": "markdown",
   "metadata": {},
   "source": [
    "### Pclass\n",
    "\n",
    "No missing values, nothing special, can go in as is, but it makes sense to treat them as categorical"
   ]
  },
  {
   "cell_type": "code",
   "execution_count": 5,
   "metadata": {},
   "outputs": [],
   "source": [
    "PCLASS_NAME = 'Pclass'\n",
    "\n",
    "# one-hot encode\n",
    "pclass_enc = sk_pp.OneHotEncoder(sparse=False)\n",
    "pclass_mat = pclass_enc.fit_transform(RAW_DF[PCLASS_NAME].values[:,None])\n",
    "\n",
    "# add to dataframe\n",
    "for i_cat, pclass_cat in enumerate(pclass_enc.categories_[0]):\n",
    "    PROC_DF[f'{PCLASS_NAME}_{pclass_cat}'] = pclass_mat[:, i_cat]"
   ]
  },
  {
   "cell_type": "markdown",
   "metadata": {},
   "source": [
    "### Sex\n",
    "\n",
    "Male/female, no missing. Female have much better chance of surviving"
   ]
  },
  {
   "cell_type": "code",
   "execution_count": 6,
   "metadata": {},
   "outputs": [],
   "source": [
    "PROC_DF['is_female'] = np.array(RAW_DF['Sex']=='female', dtype=int)"
   ]
  },
  {
   "cell_type": "markdown",
   "metadata": {},
   "source": [
    "### Age\n",
    "\n",
    "Significant number passengers are missing age and their survival odds are low. Set the missing age to -1, so that classifier could have good chance of picking up this trend."
   ]
  },
  {
   "cell_type": "code",
   "execution_count": 7,
   "metadata": {},
   "outputs": [],
   "source": [
    "full_age = np.ones(len(PROC_DF), dtype=float) * (-1)\n",
    "il_age_present = (RAW_DF.Age.isnull()==False)\n",
    "full_age[il_age_present] = RAW_DF[il_age_present].Age\n",
    "\n",
    "PROC_DF['age'] = full_age"
   ]
  },
  {
   "cell_type": "markdown",
   "metadata": {},
   "source": [
    "### SibSp\n",
    "\n",
    "No missing values. If 1, survival odds are about 1, if less or more survival odds are lower. Also, there are few passengers with more than 1sp, so to avoid over-fitting"
   ]
  },
  {
   "cell_type": "code",
   "execution_count": 8,
   "metadata": {},
   "outputs": [],
   "source": [
    "PROC_DF['sibsp_simp'] = [sibsp if sibsp<=1 else 2 for sibsp in RAW_DF.SibSp] "
   ]
  },
  {
   "cell_type": "markdown",
   "metadata": {},
   "source": [
    "### Parch\n",
    "No missing values for number of parents and children. 0, 1, 2, should be left as is, higher can be aggregated to avoid overfitting"
   ]
  },
  {
   "cell_type": "code",
   "execution_count": 9,
   "metadata": {},
   "outputs": [],
   "source": [
    "PROC_DF['parch_simp'] = [parch if parch<=2 else 3 for parch in RAW_DF.Parch]"
   ]
  },
  {
   "cell_type": "markdown",
   "metadata": {},
   "source": [
    "### Fare"
   ]
  },
  {
   "cell_type": "code",
   "execution_count": 10,
   "metadata": {},
   "outputs": [],
   "source": [
    "PROC_DF['fare'] = RAW_DF['Fare']"
   ]
  },
  {
   "cell_type": "markdown",
   "metadata": {},
   "source": [
    "### Cabin\n",
    "Two things can be extracted from cabin, deck, including deck MISSING, which gave significantly lower survival odds, and the number of passengers sharing a cabin with the given passenger. In some cases multiple tickets appear in the same line, e.g. `C22 C26`. In all but one cases, these are on the same deck"
   ]
  },
  {
   "cell_type": "code",
   "execution_count": 11,
   "metadata": {},
   "outputs": [],
   "source": [
    "CABIN_NAME = 'Cabin'\n",
    "\n",
    "# get the list of decks\n",
    "deck_list = [cab[0] if (type(cab)==str and len(cab)>0) else 'MISSING' for cab in RAW_DF[CABIN_NAME]]\n",
    "deck_enc = sk_pp.OneHotEncoder(sparse=False)\n",
    "deck_mat = deck_enc.fit_transform(np.array(deck_list)[:,None])\n",
    "#\n",
    "# add to dataframe\n",
    "for i_deck, deck_cat in enumerate(deck_enc.categories_[0]):\n",
    "    PROC_DF[f'deck_{deck_cat}'] = deck_mat[:, i_deck]\n",
    "    \n",
    "# cabin reps encodes how many times the ticket of the passenger has been \n",
    "# repeated, i.e. due to other passengers also holding it\n",
    "ticket_counter = coll.Counter(RAW_DF[CABIN_NAME])\n",
    "PROC_DF['ticket_counter'] = [ticket_counter[ticket] for ticket in RAW_DF[CABIN_NAME]]"
   ]
  },
  {
   "cell_type": "code",
   "execution_count": 12,
   "metadata": {},
   "outputs": [
    {
     "data": {
      "text/html": [
       "<div>\n",
       "<style scoped>\n",
       "    .dataframe tbody tr th:only-of-type {\n",
       "        vertical-align: middle;\n",
       "    }\n",
       "\n",
       "    .dataframe tbody tr th {\n",
       "        vertical-align: top;\n",
       "    }\n",
       "\n",
       "    .dataframe thead th {\n",
       "        text-align: right;\n",
       "    }\n",
       "</style>\n",
       "<table border=\"1\" class=\"dataframe\">\n",
       "  <thead>\n",
       "    <tr style=\"text-align: right;\">\n",
       "      <th></th>\n",
       "      <th>Survived</th>\n",
       "      <th>Pclass_1</th>\n",
       "      <th>Pclass_2</th>\n",
       "      <th>Pclass_3</th>\n",
       "      <th>is_female</th>\n",
       "      <th>age</th>\n",
       "      <th>sibsp_simp</th>\n",
       "      <th>parch_simp</th>\n",
       "      <th>fare</th>\n",
       "      <th>deck_A</th>\n",
       "      <th>deck_B</th>\n",
       "      <th>deck_C</th>\n",
       "      <th>deck_D</th>\n",
       "      <th>deck_E</th>\n",
       "      <th>deck_F</th>\n",
       "      <th>deck_G</th>\n",
       "      <th>deck_MISSING</th>\n",
       "      <th>deck_T</th>\n",
       "      <th>ticket_counter</th>\n",
       "    </tr>\n",
       "  </thead>\n",
       "  <tbody>\n",
       "    <tr>\n",
       "      <th>0</th>\n",
       "      <td>0</td>\n",
       "      <td>0.0</td>\n",
       "      <td>1.0</td>\n",
       "      <td>0.0</td>\n",
       "      <td>0</td>\n",
       "      <td>28.0</td>\n",
       "      <td>0</td>\n",
       "      <td>0</td>\n",
       "      <td>13.0000</td>\n",
       "      <td>0.0</td>\n",
       "      <td>0.0</td>\n",
       "      <td>0.0</td>\n",
       "      <td>0.0</td>\n",
       "      <td>0.0</td>\n",
       "      <td>0.0</td>\n",
       "      <td>0.0</td>\n",
       "      <td>1.0</td>\n",
       "      <td>0.0</td>\n",
       "      <td>687</td>\n",
       "    </tr>\n",
       "    <tr>\n",
       "      <th>1</th>\n",
       "      <td>0</td>\n",
       "      <td>0.0</td>\n",
       "      <td>0.0</td>\n",
       "      <td>1.0</td>\n",
       "      <td>0</td>\n",
       "      <td>25.0</td>\n",
       "      <td>0</td>\n",
       "      <td>0</td>\n",
       "      <td>7.6500</td>\n",
       "      <td>0.0</td>\n",
       "      <td>0.0</td>\n",
       "      <td>0.0</td>\n",
       "      <td>0.0</td>\n",
       "      <td>0.0</td>\n",
       "      <td>1.0</td>\n",
       "      <td>0.0</td>\n",
       "      <td>0.0</td>\n",
       "      <td>0.0</td>\n",
       "      <td>2</td>\n",
       "    </tr>\n",
       "    <tr>\n",
       "      <th>2</th>\n",
       "      <td>0</td>\n",
       "      <td>0.0</td>\n",
       "      <td>0.0</td>\n",
       "      <td>1.0</td>\n",
       "      <td>0</td>\n",
       "      <td>20.0</td>\n",
       "      <td>0</td>\n",
       "      <td>0</td>\n",
       "      <td>7.8542</td>\n",
       "      <td>0.0</td>\n",
       "      <td>0.0</td>\n",
       "      <td>0.0</td>\n",
       "      <td>0.0</td>\n",
       "      <td>0.0</td>\n",
       "      <td>0.0</td>\n",
       "      <td>0.0</td>\n",
       "      <td>1.0</td>\n",
       "      <td>0.0</td>\n",
       "      <td>687</td>\n",
       "    </tr>\n",
       "    <tr>\n",
       "      <th>3</th>\n",
       "      <td>0</td>\n",
       "      <td>0.0</td>\n",
       "      <td>0.0</td>\n",
       "      <td>1.0</td>\n",
       "      <td>1</td>\n",
       "      <td>29.0</td>\n",
       "      <td>0</td>\n",
       "      <td>3</td>\n",
       "      <td>21.0750</td>\n",
       "      <td>0.0</td>\n",
       "      <td>0.0</td>\n",
       "      <td>0.0</td>\n",
       "      <td>0.0</td>\n",
       "      <td>0.0</td>\n",
       "      <td>0.0</td>\n",
       "      <td>0.0</td>\n",
       "      <td>1.0</td>\n",
       "      <td>0.0</td>\n",
       "      <td>687</td>\n",
       "    </tr>\n",
       "    <tr>\n",
       "      <th>4</th>\n",
       "      <td>0</td>\n",
       "      <td>1.0</td>\n",
       "      <td>0.0</td>\n",
       "      <td>0.0</td>\n",
       "      <td>0</td>\n",
       "      <td>31.0</td>\n",
       "      <td>1</td>\n",
       "      <td>0</td>\n",
       "      <td>52.0000</td>\n",
       "      <td>0.0</td>\n",
       "      <td>1.0</td>\n",
       "      <td>0.0</td>\n",
       "      <td>0.0</td>\n",
       "      <td>0.0</td>\n",
       "      <td>0.0</td>\n",
       "      <td>0.0</td>\n",
       "      <td>0.0</td>\n",
       "      <td>0.0</td>\n",
       "      <td>1</td>\n",
       "    </tr>\n",
       "    <tr>\n",
       "      <th>...</th>\n",
       "      <td>...</td>\n",
       "      <td>...</td>\n",
       "      <td>...</td>\n",
       "      <td>...</td>\n",
       "      <td>...</td>\n",
       "      <td>...</td>\n",
       "      <td>...</td>\n",
       "      <td>...</td>\n",
       "      <td>...</td>\n",
       "      <td>...</td>\n",
       "      <td>...</td>\n",
       "      <td>...</td>\n",
       "      <td>...</td>\n",
       "      <td>...</td>\n",
       "      <td>...</td>\n",
       "      <td>...</td>\n",
       "      <td>...</td>\n",
       "      <td>...</td>\n",
       "      <td>...</td>\n",
       "    </tr>\n",
       "    <tr>\n",
       "      <th>886</th>\n",
       "      <td>0</td>\n",
       "      <td>0.0</td>\n",
       "      <td>0.0</td>\n",
       "      <td>1.0</td>\n",
       "      <td>0</td>\n",
       "      <td>-1.0</td>\n",
       "      <td>0</td>\n",
       "      <td>0</td>\n",
       "      <td>7.7375</td>\n",
       "      <td>0.0</td>\n",
       "      <td>0.0</td>\n",
       "      <td>0.0</td>\n",
       "      <td>0.0</td>\n",
       "      <td>0.0</td>\n",
       "      <td>0.0</td>\n",
       "      <td>0.0</td>\n",
       "      <td>1.0</td>\n",
       "      <td>0.0</td>\n",
       "      <td>687</td>\n",
       "    </tr>\n",
       "    <tr>\n",
       "      <th>887</th>\n",
       "      <td>0</td>\n",
       "      <td>1.0</td>\n",
       "      <td>0.0</td>\n",
       "      <td>0.0</td>\n",
       "      <td>0</td>\n",
       "      <td>50.0</td>\n",
       "      <td>1</td>\n",
       "      <td>0</td>\n",
       "      <td>55.9000</td>\n",
       "      <td>0.0</td>\n",
       "      <td>0.0</td>\n",
       "      <td>0.0</td>\n",
       "      <td>0.0</td>\n",
       "      <td>1.0</td>\n",
       "      <td>0.0</td>\n",
       "      <td>0.0</td>\n",
       "      <td>0.0</td>\n",
       "      <td>0.0</td>\n",
       "      <td>2</td>\n",
       "    </tr>\n",
       "    <tr>\n",
       "      <th>888</th>\n",
       "      <td>1</td>\n",
       "      <td>1.0</td>\n",
       "      <td>0.0</td>\n",
       "      <td>0.0</td>\n",
       "      <td>1</td>\n",
       "      <td>24.0</td>\n",
       "      <td>2</td>\n",
       "      <td>2</td>\n",
       "      <td>263.0000</td>\n",
       "      <td>0.0</td>\n",
       "      <td>0.0</td>\n",
       "      <td>1.0</td>\n",
       "      <td>0.0</td>\n",
       "      <td>0.0</td>\n",
       "      <td>0.0</td>\n",
       "      <td>0.0</td>\n",
       "      <td>0.0</td>\n",
       "      <td>0.0</td>\n",
       "      <td>4</td>\n",
       "    </tr>\n",
       "    <tr>\n",
       "      <th>889</th>\n",
       "      <td>1</td>\n",
       "      <td>1.0</td>\n",
       "      <td>0.0</td>\n",
       "      <td>0.0</td>\n",
       "      <td>0</td>\n",
       "      <td>32.0</td>\n",
       "      <td>0</td>\n",
       "      <td>0</td>\n",
       "      <td>30.5000</td>\n",
       "      <td>0.0</td>\n",
       "      <td>1.0</td>\n",
       "      <td>0.0</td>\n",
       "      <td>0.0</td>\n",
       "      <td>0.0</td>\n",
       "      <td>0.0</td>\n",
       "      <td>0.0</td>\n",
       "      <td>0.0</td>\n",
       "      <td>0.0</td>\n",
       "      <td>1</td>\n",
       "    </tr>\n",
       "    <tr>\n",
       "      <th>890</th>\n",
       "      <td>0</td>\n",
       "      <td>1.0</td>\n",
       "      <td>0.0</td>\n",
       "      <td>0.0</td>\n",
       "      <td>0</td>\n",
       "      <td>47.0</td>\n",
       "      <td>0</td>\n",
       "      <td>0</td>\n",
       "      <td>52.0000</td>\n",
       "      <td>0.0</td>\n",
       "      <td>0.0</td>\n",
       "      <td>1.0</td>\n",
       "      <td>0.0</td>\n",
       "      <td>0.0</td>\n",
       "      <td>0.0</td>\n",
       "      <td>0.0</td>\n",
       "      <td>0.0</td>\n",
       "      <td>0.0</td>\n",
       "      <td>1</td>\n",
       "    </tr>\n",
       "  </tbody>\n",
       "</table>\n",
       "<p>891 rows × 19 columns</p>\n",
       "</div>"
      ],
      "text/plain": [
       "     Survived  Pclass_1  Pclass_2  Pclass_3  is_female   age  sibsp_simp  \\\n",
       "0           0       0.0       1.0       0.0          0  28.0           0   \n",
       "1           0       0.0       0.0       1.0          0  25.0           0   \n",
       "2           0       0.0       0.0       1.0          0  20.0           0   \n",
       "3           0       0.0       0.0       1.0          1  29.0           0   \n",
       "4           0       1.0       0.0       0.0          0  31.0           1   \n",
       "..        ...       ...       ...       ...        ...   ...         ...   \n",
       "886         0       0.0       0.0       1.0          0  -1.0           0   \n",
       "887         0       1.0       0.0       0.0          0  50.0           1   \n",
       "888         1       1.0       0.0       0.0          1  24.0           2   \n",
       "889         1       1.0       0.0       0.0          0  32.0           0   \n",
       "890         0       1.0       0.0       0.0          0  47.0           0   \n",
       "\n",
       "     parch_simp      fare  deck_A  deck_B  deck_C  deck_D  deck_E  deck_F  \\\n",
       "0             0   13.0000     0.0     0.0     0.0     0.0     0.0     0.0   \n",
       "1             0    7.6500     0.0     0.0     0.0     0.0     0.0     1.0   \n",
       "2             0    7.8542     0.0     0.0     0.0     0.0     0.0     0.0   \n",
       "3             3   21.0750     0.0     0.0     0.0     0.0     0.0     0.0   \n",
       "4             0   52.0000     0.0     1.0     0.0     0.0     0.0     0.0   \n",
       "..          ...       ...     ...     ...     ...     ...     ...     ...   \n",
       "886           0    7.7375     0.0     0.0     0.0     0.0     0.0     0.0   \n",
       "887           0   55.9000     0.0     0.0     0.0     0.0     1.0     0.0   \n",
       "888           2  263.0000     0.0     0.0     1.0     0.0     0.0     0.0   \n",
       "889           0   30.5000     0.0     1.0     0.0     0.0     0.0     0.0   \n",
       "890           0   52.0000     0.0     0.0     1.0     0.0     0.0     0.0   \n",
       "\n",
       "     deck_G  deck_MISSING  deck_T  ticket_counter  \n",
       "0       0.0           1.0     0.0             687  \n",
       "1       0.0           0.0     0.0               2  \n",
       "2       0.0           1.0     0.0             687  \n",
       "3       0.0           1.0     0.0             687  \n",
       "4       0.0           0.0     0.0               1  \n",
       "..      ...           ...     ...             ...  \n",
       "886     0.0           1.0     0.0             687  \n",
       "887     0.0           0.0     0.0               2  \n",
       "888     0.0           0.0     0.0               4  \n",
       "889     0.0           0.0     0.0               1  \n",
       "890     0.0           0.0     0.0               1  \n",
       "\n",
       "[891 rows x 19 columns]"
      ]
     },
     "execution_count": 12,
     "metadata": {},
     "output_type": "execute_result"
    }
   ],
   "source": [
    "PROC_DF"
   ]
  },
  {
   "cell_type": "markdown",
   "metadata": {},
   "source": [
    "### Embarked\n",
    "\n",
    "Could have embarked from C = Cherbourg, Q = Queenstown, S = Southampton and there are two missing"
   ]
  },
  {
   "cell_type": "code",
   "execution_count": 13,
   "metadata": {},
   "outputs": [],
   "source": [
    "EMBARKED_NAME = 'Embarked'\n",
    "\n",
    "# get the list of decks\n",
    "emb_list = [emb if emb is not None else 'MISSING' for emb in RAW_DF[EMBARKED_NAME]]\n",
    "emb_enc = sk_pp.OneHotEncoder(sparse=False)\n",
    "emb_mat = emb_enc.fit_transform(np.array(emb_list)[:,None])\n",
    "#\n",
    "# add to dataframe\n",
    "for i_emb, emb_cat in enumerate(emb_enc.categories_[0]):\n",
    "    PROC_DF[f'embarked_{emb_cat}'] = emb_mat[:, i_emb]"
   ]
  },
  {
   "cell_type": "markdown",
   "metadata": {},
   "source": [
    "### Name -> Title -> is_miss"
   ]
  },
  {
   "cell_type": "markdown",
   "metadata": {},
   "source": [
    "Presence of 'Miss.' in the name allows separating the married and un-married women. Will encode it as a feature"
   ]
  },
  {
   "cell_type": "code",
   "execution_count": 14,
   "metadata": {},
   "outputs": [],
   "source": [
    "IS_MISS_NAME = 'is_miss'\n",
    "\n",
    "PROC_DF[IS_MISS_NAME] = np.array(RAW_DF.Name.str.contains('Miss.'), dtype=int)"
   ]
  },
  {
   "cell_type": "markdown",
   "metadata": {},
   "source": [
    "## Ready to store"
   ]
  },
  {
   "cell_type": "code",
   "execution_count": 15,
   "metadata": {},
   "outputs": [],
   "source": [
    "FEATURES_DF = PROC_DF.copy()\n",
    "LABEL_SRS = FEATURES_DF.pop('Survived') "
   ]
  },
  {
   "cell_type": "code",
   "execution_count": 16,
   "metadata": {},
   "outputs": [
    {
     "data": {
      "text/plain": [
       "0      0\n",
       "1      0\n",
       "2      0\n",
       "3      0\n",
       "4      0\n",
       "      ..\n",
       "886    0\n",
       "887    0\n",
       "888    1\n",
       "889    1\n",
       "890    0\n",
       "Name: Survived, Length: 891, dtype: int64"
      ]
     },
     "execution_count": 16,
     "metadata": {},
     "output_type": "execute_result"
    }
   ],
   "source": [
    "LABEL_SRS"
   ]
  },
  {
   "cell_type": "code",
   "execution_count": 17,
   "metadata": {},
   "outputs": [],
   "source": [
    "TRAIN_DF, TEST_DF, TRAIN_LABEL, TEST_LABEL = sk_ms.train_test_split(FEATURES_DF, LABEL_SRS, stratify=LABEL_SRS, random_state=42)\n",
    "\n",
    "with open('train_test_data.pkl', 'wb') as fh:\n",
    "    pkl.dump(\n",
    "        {'TRAIN_DF': TRAIN_DF, 'TEST_DF': TEST_DF, 'TRAIN_LABEL': TRAIN_LABEL, 'TEST_LABEL': TEST_LABEL},\n",
    "        fh\n",
    "    )"
   ]
  },
  {
   "cell_type": "code",
   "execution_count": null,
   "metadata": {},
   "outputs": [],
   "source": []
  }
 ],
 "metadata": {
  "kernelspec": {
   "display_name": "Python 3",
   "language": "python",
   "name": "python3"
  },
  "language_info": {
   "codemirror_mode": {
    "name": "ipython",
    "version": 3
   },
   "file_extension": ".py",
   "mimetype": "text/x-python",
   "name": "python",
   "nbconvert_exporter": "python",
   "pygments_lexer": "ipython3",
   "version": "3.6.10"
  }
 },
 "nbformat": 4,
 "nbformat_minor": 4
}
