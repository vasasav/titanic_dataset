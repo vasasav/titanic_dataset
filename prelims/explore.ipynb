{
 "cells": [
  {
   "cell_type": "markdown",
   "metadata": {},
   "source": [
    "# Exploration of the Titanic data set - Load the data"
   ]
  },
  {
   "cell_type": "markdown",
   "metadata": {},
   "source": [
    "### Prelims"
   ]
  },
  {
   "cell_type": "code",
   "execution_count": 2,
   "metadata": {},
   "outputs": [],
   "source": [
    "import numpy as np\n",
    "\n",
    "import pandas as pd\n",
    "\n",
    "import matplotlib as mpl\n",
    "import matplotlib.pyplot as pp\n",
    "import matplotlib.cm as cm\n",
    "\n",
    "import sklearn as sk\n",
    "import sklearn.model_selection as sk_ms\n",
    "import sklearn.linear_model as sk_lm\n",
    "\n",
    "import typing as tp"
   ]
  },
  {
   "cell_type": "code",
   "execution_count": 3,
   "metadata": {},
   "outputs": [],
   "source": [
    "PICKLE_PATH = '/home/cryo/Documents/github/titanic/prelims/titanic_dataset.pkl'\n",
    "\n",
    "TITANIC_DF = pd.read_pickle(PICKLE_PATH)"
   ]
  },
  {
   "cell_type": "code",
   "execution_count": 4,
   "metadata": {},
   "outputs": [
    {
     "data": {
      "text/html": [
       "<div>\n",
       "<style scoped>\n",
       "    .dataframe tbody tr th:only-of-type {\n",
       "        vertical-align: middle;\n",
       "    }\n",
       "\n",
       "    .dataframe tbody tr th {\n",
       "        vertical-align: top;\n",
       "    }\n",
       "\n",
       "    .dataframe thead th {\n",
       "        text-align: right;\n",
       "    }\n",
       "</style>\n",
       "<table border=\"1\" class=\"dataframe\">\n",
       "  <thead>\n",
       "    <tr style=\"text-align: right;\">\n",
       "      <th></th>\n",
       "      <th>PassengerId</th>\n",
       "      <th>Survived</th>\n",
       "      <th>Pclass</th>\n",
       "      <th>Name</th>\n",
       "      <th>Sex</th>\n",
       "      <th>Age</th>\n",
       "      <th>SibSp</th>\n",
       "      <th>Parch</th>\n",
       "      <th>Ticket</th>\n",
       "      <th>Fare</th>\n",
       "      <th>Cabin</th>\n",
       "      <th>Embarked</th>\n",
       "    </tr>\n",
       "  </thead>\n",
       "  <tbody>\n",
       "    <tr>\n",
       "      <th>0</th>\n",
       "      <td>343</td>\n",
       "      <td>No</td>\n",
       "      <td>2</td>\n",
       "      <td>Collander, Mr. Erik Gustaf</td>\n",
       "      <td>male</td>\n",
       "      <td>28.0</td>\n",
       "      <td>0</td>\n",
       "      <td>0</td>\n",
       "      <td>248740</td>\n",
       "      <td>13.0000</td>\n",
       "      <td>NaN</td>\n",
       "      <td>S</td>\n",
       "    </tr>\n",
       "    <tr>\n",
       "      <th>1</th>\n",
       "      <td>76</td>\n",
       "      <td>No</td>\n",
       "      <td>3</td>\n",
       "      <td>Moen, Mr. Sigurd Hansen</td>\n",
       "      <td>male</td>\n",
       "      <td>25.0</td>\n",
       "      <td>0</td>\n",
       "      <td>0</td>\n",
       "      <td>348123</td>\n",
       "      <td>7.6500</td>\n",
       "      <td>F G73</td>\n",
       "      <td>S</td>\n",
       "    </tr>\n",
       "    <tr>\n",
       "      <th>2</th>\n",
       "      <td>641</td>\n",
       "      <td>No</td>\n",
       "      <td>3</td>\n",
       "      <td>Jensen, Mr. Hans Peder</td>\n",
       "      <td>male</td>\n",
       "      <td>20.0</td>\n",
       "      <td>0</td>\n",
       "      <td>0</td>\n",
       "      <td>350050</td>\n",
       "      <td>7.8542</td>\n",
       "      <td>NaN</td>\n",
       "      <td>S</td>\n",
       "    </tr>\n",
       "  </tbody>\n",
       "</table>\n",
       "</div>"
      ],
      "text/plain": [
       "   PassengerId Survived  Pclass                        Name   Sex   Age  \\\n",
       "0          343       No       2  Collander, Mr. Erik Gustaf  male  28.0   \n",
       "1           76       No       3     Moen, Mr. Sigurd Hansen  male  25.0   \n",
       "2          641       No       3      Jensen, Mr. Hans Peder  male  20.0   \n",
       "\n",
       "   SibSp  Parch  Ticket     Fare  Cabin Embarked  \n",
       "0      0      0  248740  13.0000    NaN        S  \n",
       "1      0      0  348123   7.6500  F G73        S  \n",
       "2      0      0  350050   7.8542    NaN        S  "
      ]
     },
     "execution_count": 4,
     "metadata": {},
     "output_type": "execute_result"
    }
   ],
   "source": [
    "TITANIC_DF.head(3)"
   ]
  },
  {
   "cell_type": "markdown",
   "metadata": {},
   "source": [
    "## Labels for the data"
   ]
  },
  {
   "cell_type": "code",
   "execution_count": 5,
   "metadata": {},
   "outputs": [],
   "source": [
    "def breakdown_by_category(\n",
    "    df: pd.DataFrame, \n",
    "    tgt_feat: str, \n",
    "    verbose: bool=True,\n",
    "    missing_val_word: str='MISSING'\n",
    ")->tp.Dict[tp.Any, int]:\n",
    "    \"\"\"\n",
    "    Given a dataframe and a feature to target, go through all the values of the feature\n",
    "    and collate the counts of when feature takes a specific value. Handle missing values\n",
    "    \n",
    "    arguments:\n",
    "    ----------\n",
    "        df:               the dataframe to analyze\n",
    "        tgt_feat:         the name of the feature that will be analyzed\n",
    "        verbose:          print output in addition to returning collated results\n",
    "        missing_val_word: missing values will be displayed under this name. if the name clashes with a \n",
    "                            legitimate value of the feature, an exception will be raised\n",
    "                            \n",
    "    returns:\n",
    "    --------\n",
    "        a dictionary feature_value->count\n",
    "    \"\"\"\n",
    "    \n",
    "    # isolate series\n",
    "    tgt_srs = df[tgt_feat]\n",
    "    full_row_count = len(tgt_srs)\n",
    "    \n",
    "    # storage dictionary\n",
    "    cat_dict = {}\n",
    "    \n",
    "    # handle missing\n",
    "    no_missing_srs = tgt_srs[tgt_srs.isnull() == 0]\n",
    "    if len(no_missing_srs) < full_row_count:\n",
    "        cat_dict[missing_val_word] = full_row_count - len(no_missing_srs)\n",
    "        \n",
    "    # if any non-missing rows include them\n",
    "    if len(no_missing_srs) > 0:\n",
    "        feat_vocab = no_missing_srs.unique()\n",
    "        \n",
    "        # go through all distinct values of the feature\n",
    "        for feat_word in feat_vocab:\n",
    "            # avoid clash of the placeholder with legitimate words\n",
    "            if feat_word == missing_val_word:\n",
    "                raise Exception(\n",
    "                    'Legitimate feature word matches the missing value placeholder, change `missing_val_word`'\n",
    "                )\n",
    "            \n",
    "            cat_dict[feat_word] = sum(no_missing_srs==feat_word)\n",
    "            \n",
    "    # show output\n",
    "    if verbose:\n",
    "        print('Full record count: ', full_row_count)\n",
    "        print(f'Breakdown by label values of `{tgt_feat}`: ')\n",
    "        \n",
    "        for word, count in cat_dict.items():\n",
    "            print(\n",
    "                '\\t{tgt_feat}==`{word}`: {cur_count} records ({percentage:.1f}% of total)'.format(\n",
    "                    tgt_feat=tgt_feat,\n",
    "                    word=word,\n",
    "                    cur_count=count,\n",
    "                    percentage=100 * (count/full_row_count)\n",
    "                )\n",
    "            )\n",
    "            \n",
    "    return cat_dict"
   ]
  },
  {
   "cell_type": "code",
   "execution_count": 6,
   "metadata": {},
   "outputs": [
    {
     "name": "stdout",
     "output_type": "stream",
     "text": [
      "Full record count:  891\n",
      "Breakdown by label values of `Survived`: \n",
      "\tSurvived==`No`: 549 records (61.6% of total)\n",
      "\tSurvived==`Yes`: 342 records (38.4% of total)\n"
     ]
    }
   ],
   "source": [
    "LABEL_NAME = 'Survived'\n",
    "\n",
    "LABEL_BDN_DICT = breakdown_by_category(TITANIC_DF, LABEL_NAME)"
   ]
  },
  {
   "cell_type": "markdown",
   "metadata": {},
   "source": [
    "No unlabeled data - good. Class disbalance not too bad, will use F1 score."
   ]
  },
  {
   "cell_type": "markdown",
   "metadata": {},
   "source": [
    "## Features/Label and Train/Test split"
   ]
  },
  {
   "cell_type": "code",
   "execution_count": 7,
   "metadata": {},
   "outputs": [],
   "source": [
    "# test-train split\n",
    "TRAIN_DF, TEST_DF = sk_ms.train_test_split(\n",
    "    TITANIC_DF, train_size=0.6, shuffle=TITANIC_DF[LABEL_NAME]\n",
    ")\n",
    "\n",
    "# separate the label\n",
    "RAW_TRAIN_LABEL = TRAIN_DF.pop(LABEL_NAME).values\n",
    "RAW_TEST_LABEL = TEST_DF.pop(LABEL_NAME).values\n",
    "\n",
    "# numeric label\n",
    "POSITIVE_CLASS_LABEL = 'Yes'\n",
    "TRAIN_LABEL = np.array(RAW_TRAIN_LABEL==POSITIVE_CLASS_LABEL, dtype=int)\n",
    "TEST_LABEL = np.array(RAW_TEST_LABEL==POSITIVE_CLASS_LABEL, dtype=int)"
   ]
  },
  {
   "cell_type": "markdown",
   "metadata": {},
   "source": [
    "## Exploration of features"
   ]
  },
  {
   "cell_type": "markdown",
   "metadata": {},
   "source": [
    "### Naive classifiers"
   ]
  },
  {
   "cell_type": "code",
   "execution_count": 7,
   "metadata": {},
   "outputs": [],
   "source": [
    "NAIVE_CLASSIFIERS = {}\n",
    "\n",
    "#NAIVE_CLASSIFIERS['all_dead'] = lambda features_df: np.zeros(len(features_df), dtype=int)\n",
    "NAIVE_CLASSIFIERS['all_live'] = lambda features_df: np.ones(len(features_df), dtype=int)"
   ]
  },
  {
   "cell_type": "markdown",
   "metadata": {},
   "source": [
    "### Feature `Name`"
   ]
  },
  {
   "cell_type": "markdown",
   "metadata": {},
   "source": [
    "Good [post](https://www.kaggle.com/demidova/titanic-eda-tutorial-with-seaborn/comments) by Nadezhda Demidova suggesting to consider the title as one of the features. Title allows to separate boys from men and married from unmarried women. The main feature is probably the married from un-married"
   ]
  },
  {
   "cell_type": "code",
   "execution_count": 31,
   "metadata": {},
   "outputs": [],
   "source": [
    "TITLE_LIST = ['Mrs.', 'Mr.', 'Miss.', 'Master.']\n",
    "OTHER_TITLES = 'Other'\n",
    "\n",
    "TITLE_COL = np.array([OTHER_TITLES for _ in range(len(TRAIN_DF))])\n",
    "\n",
    "for chosen_title in TITLE_LIST:\n",
    "    il_chosen_title = TRAIN_DF.Name.str.contains(chosen_title) & (TITLE_COL==OTHER_TITLES)\n",
    "    TITLE_COL[il_chosen_title] = chosen_title\n",
    "    \n",
    "TITLE_VOCAB = [*TITLE_LIST, OTHER_TITLES]"
   ]
  },
  {
   "cell_type": "code",
   "execution_count": 29,
   "metadata": {},
   "outputs": [
    {
     "data": {
      "text/plain": [
       "Text(0, 0.5, 'counts')"
      ]
     },
     "execution_count": 29,
     "metadata": {},
     "output_type": "execute_result"
    },
    {
     "data": {
      "image/png": "[encoded data removed]",
      "text/plain": [
       "<Figure size 576x432 with 1 Axes>"
      ]
     },
     "metadata": {
      "needs_background": "light"
     },
     "output_type": "display_data"
    }
   ],
   "source": [
    "fig, ax = pp.subplots(figsize=(8, 6))\n",
    "\n",
    "ax.hist(name_col)\n",
    "ax.set_xlabel('title')\n",
    "ax.set_ylabel('counts')"
   ]
  },
  {
   "cell_type": "markdown",
   "metadata": {},
   "source": [
    "What are the survival odds?"
   ]
  },
  {
   "cell_type": "code",
   "execution_count": 32,
   "metadata": {},
   "outputs": [
    {
     "name": "stdout",
     "output_type": "stream",
     "text": [
      "title==`Mrs.`: survival_odds = 3.882 (full count 83)\n",
      "title==`Mr.`: survival_odds = 0.240 (full count 305)\n",
      "title==`Miss.`: survival_odds = 2.303 (full count 109)\n",
      "title==`Master.`: survival_odds = invalid (full count 0)\n",
      "title==`Other`: survival_odds = 0.700 (full count 17)\n"
     ]
    }
   ],
   "source": [
    "for title_val in TITLE_VOCAB:\n",
    "    il_cur = (TITLE_COL==title_val)\n",
    "    \n",
    "    count_lived = sum(TRAIN_LABEL[il_cur] == 1)\n",
    "    count_perished = sum(TRAIN_LABEL[il_cur] == 0)\n",
    "    \n",
    "    if count_perished > 0:\n",
    "        print(f'title==`{title_val}`: survival_odds = {(count_lived/count_perished):.3f} (full count {sum(il_cur)})')\n",
    "    else:\n",
    "        print(f'title==`{title_val}`: survival_odds = invalid (full count {sum(il_cur)})')"
   ]
  },
  {
   "cell_type": "markdown",
   "metadata": {},
   "source": [
    "Both Miss and Mrs have high chances of survival, but the chances are not equal. Should encode it as a feature, but will not make it a navive classifier"
   ]
  },
  {
   "cell_type": "markdown",
   "metadata": {},
   "source": [
    "### Feature `Pclass`"
   ]
  },
  {
   "cell_type": "markdown",
   "metadata": {},
   "source": [
    "Passenger class, 1 - upper, 2 - middle, 3 - lower"
   ]
  },
  {
   "cell_type": "code",
   "execution_count": 8,
   "metadata": {},
   "outputs": [
    {
     "name": "stdout",
     "output_type": "stream",
     "text": [
      "Full record count:  534\n",
      "Breakdown by label values of `Pclass`: \n",
      "\tPclass==`3`: 301 records (56.4% of total)\n",
      "\tPclass==`1`: 129 records (24.2% of total)\n",
      "\tPclass==`2`: 104 records (19.5% of total)\n"
     ]
    }
   ],
   "source": [
    "tgt_feat = 'Pclass'\n",
    "\n",
    "_ = breakdown_by_category(TRAIN_DF, tgt_feat)"
   ]
  },
  {
   "cell_type": "markdown",
   "metadata": {},
   "source": [
    "Lets compare `Pclass` and the label. How easy is it to predict survival using just this feature? "
   ]
  },
  {
   "cell_type": "code",
   "execution_count": 9,
   "metadata": {},
   "outputs": [
    {
     "name": "stdout",
     "output_type": "stream",
     "text": [
      "class 2: survived=55,\t perished=49,\t survival odds=1.122\n",
      "class 1: survived=73,\t perished=56,\t survival odds=1.304\n",
      "class 3: survived=69,\t perished=232,\t survival odds=0.297\n"
     ]
    }
   ],
   "source": [
    "tgt_feat = 'Pclass'\n",
    "\n",
    "pos_dict = breakdown_by_category(TRAIN_DF[TRAIN_LABEL==1], tgt_feat, verbose=False)\n",
    "neg_dict = breakdown_by_category(TRAIN_DF[TRAIN_LABEL==0], tgt_feat, verbose=False)\n",
    "\n",
    "for pclass_val in pos_dict.keys():\n",
    "    print(\n",
    "        f'class {pclass_val}: survived={pos_dict[pclass_val]},\\t perished={neg_dict[pclass_val]}' +\\\n",
    "        f',\\t survival odds={pos_dict[pclass_val]/neg_dict[pclass_val]:.3f}'\n",
    "    )"
   ]
  },
  {
   "cell_type": "markdown",
   "metadata": {},
   "source": [
    "So a naive classifier would be to say that everyone in first class survived whilst everyone in the third and second class perished."
   ]
  },
  {
   "cell_type": "code",
   "execution_count": 10,
   "metadata": {},
   "outputs": [],
   "source": [
    "NAIVE_CLASSIFIERS['naive_Pclass'] = lambda features_df: np.array(features_df.Pclass==1, dtype=int)"
   ]
  },
  {
   "cell_type": "markdown",
   "metadata": {},
   "source": [
    "### Feature Sex"
   ]
  },
  {
   "cell_type": "code",
   "execution_count": 11,
   "metadata": {},
   "outputs": [
    {
     "name": "stdout",
     "output_type": "stream",
     "text": [
      "Full record count:  534\n",
      "Breakdown by label values of `Sex`: \n",
      "\tSex==`male`: 356 records (66.7% of total)\n",
      "\tSex==`female`: 178 records (33.3% of total)\n"
     ]
    }
   ],
   "source": [
    "tgt_feat = 'Sex'\n",
    "\n",
    "_ = breakdown_by_category(TRAIN_DF, tgt_feat)"
   ]
  },
  {
   "cell_type": "markdown",
   "metadata": {},
   "source": [
    "No missing labels. Good. Compare sex to label"
   ]
  },
  {
   "cell_type": "code",
   "execution_count": 12,
   "metadata": {},
   "outputs": [
    {
     "name": "stdout",
     "output_type": "stream",
     "text": [
      "female: survived=136,\t perished=42,\t survival odds=3.238\n",
      "male: survived=61,\t perished=295,\t survival odds=0.207\n"
     ]
    }
   ],
   "source": [
    "tgt_feat = 'Sex'\n",
    "\n",
    "pos_dict = breakdown_by_category(TRAIN_DF[TRAIN_LABEL==1], tgt_feat, verbose=False)\n",
    "neg_dict = breakdown_by_category(TRAIN_DF[TRAIN_LABEL==0], tgt_feat, verbose=False)\n",
    "\n",
    "for sex_val in pos_dict.keys():\n",
    "    print(\n",
    "        f'{sex_val}: survived={pos_dict[sex_val]},\\t perished={neg_dict[sex_val]}' +\\\n",
    "        f',\\t survival odds={pos_dict[sex_val]/neg_dict[sex_val]:.3f}'\n",
    "    )"
   ]
  },
  {
   "cell_type": "markdown",
   "metadata": {},
   "source": [
    "So females had much better odds of survival. Naive classifier would be to kill all men, and let females live"
   ]
  },
  {
   "cell_type": "code",
   "execution_count": 13,
   "metadata": {},
   "outputs": [],
   "source": [
    "NAIVE_CLASSIFIERS['naive_Sex'] = lambda features_df: np.array(features_df.Sex=='female', dtype=int)"
   ]
  },
  {
   "cell_type": "markdown",
   "metadata": {},
   "source": [
    "### Feature Age"
   ]
  },
  {
   "cell_type": "code",
   "execution_count": 14,
   "metadata": {},
   "outputs": [
    {
     "name": "stdout",
     "output_type": "stream",
     "text": [
      "120 out of 534 records are missing age\n",
      "Survival odds for those missing age: 0.379\n"
     ]
    }
   ],
   "source": [
    "IL_AGE_MISSING = TRAIN_DF.Age.isnull()\n",
    "\n",
    "print('{} out of {} records are missing age'.format(IL_AGE_MISSING.sum(), len(TRAIN_DF)))\n",
    "\n",
    "no_age_survived = sum(TRAIN_LABEL[IL_AGE_MISSING]==1)\n",
    "no_age_perished = sum(TRAIN_LABEL[IL_AGE_MISSING]==0)\n",
    "\n",
    "print(f'Survival odds for those missing age: {(no_age_survived/no_age_perished):.3f}')"
   ]
  },
  {
   "cell_type": "markdown",
   "metadata": {},
   "source": [
    "So missing age is not a bad predictor for dying. What is the spread for other ages?"
   ]
  },
  {
   "cell_type": "code",
   "execution_count": 15,
   "metadata": {},
   "outputs": [
    {
     "data": {
      "image/png": "[encoded data removed]",
      "text/plain": [
       "<Figure size 720x576 with 1 Axes>"
      ]
     },
     "metadata": {
      "needs_background": "light"
     },
     "output_type": "display_data"
    }
   ],
   "source": [
    "present_age_range = TRAIN_DF.Age[IL_AGE_MISSING==0].values\n",
    "present_label_range = TRAIN_LABEL[IL_AGE_MISSING==0]\n",
    "\n",
    "fig, ax = pp.subplots(figsize=(10, 8))\n",
    "_ = ax.hist(present_age_range[present_label_range==1], alpha=0.5, label='survived', density=True, bins=30)\n",
    "_ = ax.hist(present_age_range[present_label_range==0], alpha=0.5, label='perished', density=True, bins=30)\n",
    "ax.set_xlabel('age')\n",
    "ax.set_ylabel('counts (normalized to density)')\n",
    "_ = ax.legend()"
   ]
  },
  {
   "cell_type": "markdown",
   "metadata": {},
   "source": [
    "There does not seem to be a strong selection by age in terms of who survived, with the exception of children. Tried logistic regresion, not much luck. Will set a simple rule that anyone older than 10 years dies. \n",
    "\n",
    "All the missing cases die as well, but treat them separately since there is no obvious change difference in distribution for survived and perished for older ages. **A proper way to handle it, later on, is to set all the missing ages to ????, and then have a separate column for missing values**"
   ]
  },
  {
   "cell_type": "code",
   "execution_count": 16,
   "metadata": {},
   "outputs": [],
   "source": [
    "NAIVE_CLASSIFIERS['naive_Age'] = lambda features_df: np.array(features_df.Age<10, dtype=int)"
   ]
  },
  {
   "cell_type": "markdown",
   "metadata": {},
   "source": [
    "### Feature SibSp"
   ]
  },
  {
   "cell_type": "markdown",
   "metadata": {},
   "source": [
    "Number of siblings and spouses aboard."
   ]
  },
  {
   "cell_type": "code",
   "execution_count": 17,
   "metadata": {},
   "outputs": [
    {
     "name": "stdout",
     "output_type": "stream",
     "text": [
      "Full record count:  891\n",
      "Breakdown by label values of `SibSp`: \n",
      "\tSibSp==`0`: 608 records (68.2% of total)\n",
      "\tSibSp==`1`: 209 records (23.5% of total)\n",
      "\tSibSp==`2`: 28 records (3.1% of total)\n",
      "\tSibSp==`3`: 16 records (1.8% of total)\n",
      "\tSibSp==`5`: 5 records (0.6% of total)\n",
      "\tSibSp==`4`: 18 records (2.0% of total)\n",
      "\tSibSp==`8`: 7 records (0.8% of total)\n"
     ]
    }
   ],
   "source": [
    "tgt_feat = 'SibSp'\n",
    "\n",
    "_ = breakdown_by_category(TITANIC_DF, tgt_feat)"
   ]
  },
  {
   "cell_type": "markdown",
   "metadata": {},
   "source": [
    "Seems to be no missing records for this feature. The main two categories are `0` and `1`. What are the survival odds?"
   ]
  },
  {
   "cell_type": "code",
   "execution_count": 18,
   "metadata": {},
   "outputs": [
    {
     "name": "stdout",
     "output_type": "stream",
     "text": [
      "SibSp==`0`: survival_odds = 0.508 (full count 380)\n",
      "SibSp==`1`: survival_odds = 1.035 (full count 116)\n",
      "SibSp==`2`: survival_odds = 0.875 (full count 15)\n",
      "SibSp==`3`: survival_odds = 0.500 (full count 9)\n",
      "SibSp==`5`: survival_odds = 0.000 (full count 4)\n",
      "SibSp==`4`: survival_odds = 0.000 (full count 6)\n",
      "SibSp==`8`: survival_odds = 0.000 (full count 4)\n"
     ]
    }
   ],
   "source": [
    "sibsp_vocab = TITANIC_DF.SibSp.unique()\n",
    "\n",
    "for sibsp_val in sibsp_vocab:\n",
    "    il_cur = (TRAIN_DF.SibSp==sibsp_val).values\n",
    "    \n",
    "    count_lived = sum(TRAIN_LABEL[il_cur] == 1)\n",
    "    count_perished = sum(TRAIN_LABEL[il_cur] == 0)\n",
    "    \n",
    "    if count_perished > 0:\n",
    "        print(f'SibSp==`{sibsp_val}`: survival_odds = {(count_lived/count_perished):.3f} (full count {sum(il_cur)})')\n",
    "    else:\n",
    "        print(f'SibSp==`{sibsp_val}`: survival_odds = invalid (full count {sum(il_cur)})')"
   ]
  },
  {
   "cell_type": "markdown",
   "metadata": {},
   "source": [
    "Naive classifier would be to set all with SibSp==1 to survive, all others die"
   ]
  },
  {
   "cell_type": "code",
   "execution_count": 19,
   "metadata": {},
   "outputs": [],
   "source": [
    "NAIVE_CLASSIFIERS['naive_SibSp'] = lambda features_df: np.array(features_df.SibSp==1, dtype=int)"
   ]
  },
  {
   "cell_type": "markdown",
   "metadata": {},
   "source": [
    "### Feature `Parch`"
   ]
  },
  {
   "cell_type": "markdown",
   "metadata": {},
   "source": [
    "Number of parents and children"
   ]
  },
  {
   "cell_type": "code",
   "execution_count": 20,
   "metadata": {},
   "outputs": [
    {
     "name": "stdout",
     "output_type": "stream",
     "text": [
      "Full record count:  891\n",
      "Breakdown by label values of `Parch`: \n",
      "\tParch==`0`: 678 records (76.1% of total)\n",
      "\tParch==`4`: 4 records (0.4% of total)\n",
      "\tParch==`2`: 80 records (9.0% of total)\n",
      "\tParch==`1`: 118 records (13.2% of total)\n",
      "\tParch==`5`: 5 records (0.6% of total)\n",
      "\tParch==`6`: 1 records (0.1% of total)\n",
      "\tParch==`3`: 5 records (0.6% of total)\n"
     ]
    }
   ],
   "source": [
    "tgt_feat = 'Parch'\n",
    "\n",
    "_ = breakdown_by_category(TITANIC_DF, tgt_feat)"
   ]
  },
  {
   "cell_type": "markdown",
   "metadata": {},
   "source": [
    "Most people have zero, so not expecting this to give good prediction results on its own"
   ]
  },
  {
   "cell_type": "code",
   "execution_count": 21,
   "metadata": {},
   "outputs": [
    {
     "name": "stdout",
     "output_type": "stream",
     "text": [
      "Parch==`0`: survival_odds = 0.463 (full count 417)\n",
      "Parch==`4`: survival_odds = 0.000 (full count 2)\n",
      "Parch==`2`: survival_odds = 1.190 (full count 46)\n",
      "Parch==`1`: survival_odds = 1.520 (full count 63)\n",
      "Parch==`5`: survival_odds = 0.000 (full count 2)\n",
      "Parch==`6`: survival_odds = invalid (full count 0)\n",
      "Parch==`3`: survival_odds = 1.000 (full count 4)\n"
     ]
    }
   ],
   "source": [
    "parch_vocab = TITANIC_DF.Parch.unique()\n",
    "\n",
    "for parch_val in parch_vocab:\n",
    "    il_cur = (TRAIN_DF.Parch==parch_val).values\n",
    "    \n",
    "    count_lived = sum(TRAIN_LABEL[il_cur] == 1)\n",
    "    count_perished = sum(TRAIN_LABEL[il_cur] == 0)\n",
    "    \n",
    "    if count_perished > 0:\n",
    "        print(f'Parch==`{parch_val}`: survival_odds = {(count_lived/count_perished):.3f} (full count {sum(il_cur)})')\n",
    "    else:\n",
    "        print(f'Parch==`{parch_val}`: survival_odds = invalid (full count {sum(il_cur)})')"
   ]
  },
  {
   "cell_type": "markdown",
   "metadata": {},
   "source": [
    "Again, it seems that the best thing to set all with Parch==1 to live, others die"
   ]
  },
  {
   "cell_type": "code",
   "execution_count": 22,
   "metadata": {},
   "outputs": [],
   "source": [
    "NAIVE_CLASSIFIERS['naive_Parch'] = lambda features_df: np.array(features_df.Parch==1, dtype=int)"
   ]
  },
  {
   "cell_type": "markdown",
   "metadata": {},
   "source": [
    "### Feature Fare"
   ]
  },
  {
   "cell_type": "code",
   "execution_count": 23,
   "metadata": {},
   "outputs": [
    {
     "name": "stdout",
     "output_type": "stream",
     "text": [
      "Number of records with missing fares: 0\n"
     ]
    }
   ],
   "source": [
    "print(f'Number of records with missing fares: {sum(TITANIC_DF.Fare.isnull())}')"
   ]
  },
  {
   "cell_type": "markdown",
   "metadata": {},
   "source": [
    "No problems with missing data - good. What is the distribution of fares between those who lived and those who perished?"
   ]
  },
  {
   "cell_type": "code",
   "execution_count": 24,
   "metadata": {},
   "outputs": [
    {
     "data": {
      "image/png": "[encoded data removed]",
      "text/plain": [
       "<Figure size 720x576 with 1 Axes>"
      ]
     },
     "metadata": {
      "needs_background": "light"
     },
     "output_type": "display_data"
    }
   ],
   "source": [
    "fig, ax = pp.subplots(figsize=(10, 8))\n",
    "_ = ax.hist(TRAIN_DF[TRAIN_LABEL==1].Fare, alpha=0.5, label='survived', bins=30)\n",
    "_ = ax.hist(TRAIN_DF[TRAIN_LABEL==0].Fare, alpha=0.5, label='perished', bins=30)\n",
    "ax.set_xlabel('Fare')\n",
    "ax.set_ylabel('counts (normalized to density)')\n",
    "_ = ax.legend()\n",
    "ax.set_xscale('log')"
   ]
  },
  {
   "cell_type": "markdown",
   "metadata": {},
   "source": [
    "A reasonable threshold seems that fares below 9 perish, above live"
   ]
  },
  {
   "cell_type": "code",
   "execution_count": 25,
   "metadata": {},
   "outputs": [],
   "source": [
    "NAIVE_CLASSIFIERS['naive_Fare'] = lambda features_df: np.array(features_df.Fare>9, dtype=int)"
   ]
  },
  {
   "cell_type": "markdown",
   "metadata": {},
   "source": [
    "### Feature Cabin"
   ]
  },
  {
   "cell_type": "code",
   "execution_count": 26,
   "metadata": {},
   "outputs": [
    {
     "name": "stdout",
     "output_type": "stream",
     "text": [
      "Full record count:  891\n",
      "Breakdown by label values of `Cabin`: \n",
      "\tCabin==`MISSING`: 687 records (77.1% of total)\n",
      "\tCabin==`F G73`: 2 records (0.2% of total)\n",
      "\tCabin==`B71`: 1 records (0.1% of total)\n",
      "\tCabin==`C82`: 1 records (0.1% of total)\n",
      "\tCabin==`C93`: 2 records (0.2% of total)\n",
      "\tCabin==`B41`: 1 records (0.1% of total)\n",
      "\tCabin==`C95`: 1 records (0.1% of total)\n",
      "\tCabin==`B38`: 1 records (0.1% of total)\n",
      "\tCabin==`C52`: 2 records (0.2% of total)\n",
      "\tCabin==`A32`: 1 records (0.1% of total)\n",
      "\tCabin==`C111`: 1 records (0.1% of total)\n",
      "\tCabin==`C2`: 2 records (0.2% of total)\n",
      "\tCabin==`E101`: 3 records (0.3% of total)\n",
      "\tCabin==`C83`: 2 records (0.2% of total)\n",
      "\tCabin==`C22 C26`: 3 records (0.3% of total)\n",
      "\tCabin==`C47`: 1 records (0.1% of total)\n",
      "\tCabin==`B58 B60`: 2 records (0.2% of total)\n",
      "\tCabin==`E38`: 1 records (0.1% of total)\n",
      "\tCabin==`D15`: 1 records (0.1% of total)\n",
      "\tCabin==`T`: 1 records (0.1% of total)\n",
      "\tCabin==`C54`: 1 records (0.1% of total)\n",
      "\tCabin==`C103`: 1 records (0.1% of total)\n",
      "\tCabin==`C125`: 2 records (0.2% of total)\n",
      "\tCabin==`D9`: 1 records (0.1% of total)\n",
      "\tCabin==`A36`: 1 records (0.1% of total)\n",
      "\tCabin==`C62 C64`: 1 records (0.1% of total)\n",
      "\tCabin==`E34`: 1 records (0.1% of total)\n",
      "\tCabin==`D6`: 1 records (0.1% of total)\n",
      "\tCabin==`A6`: 1 records (0.1% of total)\n",
      "\tCabin==`B101`: 1 records (0.1% of total)\n",
      "\tCabin==`E44`: 2 records (0.2% of total)\n",
      "\tCabin==`C123`: 2 records (0.2% of total)\n",
      "\tCabin==`D26`: 2 records (0.2% of total)\n",
      "\tCabin==`C68`: 2 records (0.2% of total)\n",
      "\tCabin==`B35`: 2 records (0.2% of total)\n",
      "\tCabin==`B5`: 2 records (0.2% of total)\n",
      "\tCabin==`C46`: 1 records (0.1% of total)\n",
      "\tCabin==`E10`: 1 records (0.1% of total)\n",
      "\tCabin==`B78`: 1 records (0.1% of total)\n",
      "\tCabin==`A31`: 1 records (0.1% of total)\n",
      "\tCabin==`C128`: 1 records (0.1% of total)\n",
      "\tCabin==`C30`: 1 records (0.1% of total)\n",
      "\tCabin==`A26`: 1 records (0.1% of total)\n",
      "\tCabin==`B51 B53 B55`: 2 records (0.2% of total)\n",
      "\tCabin==`B20`: 2 records (0.2% of total)\n",
      "\tCabin==`E68`: 1 records (0.1% of total)\n",
      "\tCabin==`B49`: 2 records (0.2% of total)\n",
      "\tCabin==`B96 B98`: 4 records (0.4% of total)\n",
      "\tCabin==`B30`: 1 records (0.1% of total)\n",
      "\tCabin==`F E69`: 1 records (0.1% of total)\n",
      "\tCabin==`D10 D12`: 1 records (0.1% of total)\n",
      "\tCabin==`B57 B59 B63 B66`: 2 records (0.2% of total)\n",
      "\tCabin==`D11`: 1 records (0.1% of total)\n",
      "\tCabin==`D28`: 1 records (0.1% of total)\n",
      "\tCabin==`D19`: 1 records (0.1% of total)\n",
      "\tCabin==`G6`: 4 records (0.4% of total)\n",
      "\tCabin==`D48`: 1 records (0.1% of total)\n",
      "\tCabin==`C90`: 1 records (0.1% of total)\n",
      "\tCabin==`D56`: 1 records (0.1% of total)\n",
      "\tCabin==`E33`: 2 records (0.2% of total)\n",
      "\tCabin==`D33`: 2 records (0.2% of total)\n",
      "\tCabin==`D46`: 1 records (0.1% of total)\n",
      "\tCabin==`D35`: 2 records (0.2% of total)\n",
      "\tCabin==`D20`: 2 records (0.2% of total)\n",
      "\tCabin==`B69`: 1 records (0.1% of total)\n",
      "\tCabin==`D49`: 1 records (0.1% of total)\n",
      "\tCabin==`B28`: 2 records (0.2% of total)\n",
      "\tCabin==`E58`: 1 records (0.1% of total)\n",
      "\tCabin==`A16`: 1 records (0.1% of total)\n",
      "\tCabin==`C126`: 2 records (0.2% of total)\n",
      "\tCabin==`E77`: 1 records (0.1% of total)\n",
      "\tCabin==`C65`: 2 records (0.2% of total)\n",
      "\tCabin==`F2`: 3 records (0.3% of total)\n",
      "\tCabin==`E24`: 2 records (0.2% of total)\n",
      "\tCabin==`B102`: 1 records (0.1% of total)\n",
      "\tCabin==`E36`: 1 records (0.1% of total)\n",
      "\tCabin==`D`: 3 records (0.3% of total)\n",
      "\tCabin==`D47`: 1 records (0.1% of total)\n",
      "\tCabin==`C124`: 2 records (0.2% of total)\n",
      "\tCabin==`E50`: 1 records (0.1% of total)\n",
      "\tCabin==`D30`: 1 records (0.1% of total)\n",
      "\tCabin==`E8`: 2 records (0.2% of total)\n",
      "\tCabin==`A23`: 1 records (0.1% of total)\n",
      "\tCabin==`A10`: 1 records (0.1% of total)\n",
      "\tCabin==`E31`: 1 records (0.1% of total)\n",
      "\tCabin==`B73`: 1 records (0.1% of total)\n",
      "\tCabin==`B18`: 2 records (0.2% of total)\n",
      "\tCabin==`C23 C25 C27`: 4 records (0.4% of total)\n",
      "\tCabin==`E46`: 1 records (0.1% of total)\n",
      "\tCabin==`D36`: 2 records (0.2% of total)\n",
      "\tCabin==`C70`: 1 records (0.1% of total)\n",
      "\tCabin==`A20`: 1 records (0.1% of total)\n",
      "\tCabin==`C78`: 2 records (0.2% of total)\n",
      "\tCabin==`B82 B84`: 1 records (0.1% of total)\n",
      "\tCabin==`E12`: 1 records (0.1% of total)\n",
      "\tCabin==`C85`: 1 records (0.1% of total)\n",
      "\tCabin==`A34`: 1 records (0.1% of total)\n",
      "\tCabin==`F33`: 3 records (0.3% of total)\n",
      "\tCabin==`E121`: 2 records (0.2% of total)\n",
      "\tCabin==`C92`: 2 records (0.2% of total)\n",
      "\tCabin==`B22`: 2 records (0.2% of total)\n",
      "\tCabin==`C87`: 1 records (0.1% of total)\n",
      "\tCabin==`C50`: 1 records (0.1% of total)\n",
      "\tCabin==`F4`: 2 records (0.2% of total)\n",
      "\tCabin==`E17`: 1 records (0.1% of total)\n",
      "\tCabin==`B80`: 1 records (0.1% of total)\n",
      "\tCabin==`E63`: 1 records (0.1% of total)\n",
      "\tCabin==`C49`: 1 records (0.1% of total)\n",
      "\tCabin==`E25`: 2 records (0.2% of total)\n",
      "\tCabin==`B42`: 1 records (0.1% of total)\n",
      "\tCabin==`B94`: 1 records (0.1% of total)\n",
      "\tCabin==`A24`: 1 records (0.1% of total)\n",
      "\tCabin==`F G63`: 1 records (0.1% of total)\n",
      "\tCabin==`D45`: 1 records (0.1% of total)\n",
      "\tCabin==`C91`: 1 records (0.1% of total)\n",
      "\tCabin==`B79`: 1 records (0.1% of total)\n",
      "\tCabin==`D21`: 1 records (0.1% of total)\n",
      "\tCabin==`C32`: 1 records (0.1% of total)\n",
      "\tCabin==`C99`: 1 records (0.1% of total)\n",
      "\tCabin==`D7`: 1 records (0.1% of total)\n",
      "\tCabin==`C106`: 1 records (0.1% of total)\n",
      "\tCabin==`B19`: 1 records (0.1% of total)\n",
      "\tCabin==`B86`: 1 records (0.1% of total)\n",
      "\tCabin==`D17`: 2 records (0.2% of total)\n",
      "\tCabin==`B77`: 2 records (0.2% of total)\n",
      "\tCabin==`B39`: 1 records (0.1% of total)\n",
      "\tCabin==`D50`: 1 records (0.1% of total)\n",
      "\tCabin==`F38`: 1 records (0.1% of total)\n",
      "\tCabin==`B37`: 1 records (0.1% of total)\n",
      "\tCabin==`A7`: 1 records (0.1% of total)\n",
      "\tCabin==`A5`: 1 records (0.1% of total)\n",
      "\tCabin==`E67`: 2 records (0.2% of total)\n",
      "\tCabin==`C118`: 1 records (0.1% of total)\n",
      "\tCabin==`C7`: 1 records (0.1% of total)\n",
      "\tCabin==`A19`: 1 records (0.1% of total)\n",
      "\tCabin==`C86`: 1 records (0.1% of total)\n",
      "\tCabin==`E49`: 1 records (0.1% of total)\n",
      "\tCabin==`B3`: 1 records (0.1% of total)\n",
      "\tCabin==`C45`: 1 records (0.1% of total)\n",
      "\tCabin==`E40`: 1 records (0.1% of total)\n",
      "\tCabin==`C101`: 1 records (0.1% of total)\n",
      "\tCabin==`D37`: 1 records (0.1% of total)\n",
      "\tCabin==`B4`: 1 records (0.1% of total)\n",
      "\tCabin==`C104`: 1 records (0.1% of total)\n",
      "\tCabin==`C148`: 1 records (0.1% of total)\n",
      "\tCabin==`A14`: 1 records (0.1% of total)\n",
      "\tCabin==`B50`: 1 records (0.1% of total)\n",
      "\tCabin==`C110`: 1 records (0.1% of total)\n"
     ]
    }
   ],
   "source": [
    "tgt_feat = 'Cabin'\n",
    "\n",
    "_ = breakdown_by_category(TITANIC_DF, tgt_feat)"
   ]
  },
  {
   "cell_type": "markdown",
   "metadata": {},
   "source": [
    "It makes more sense to convert cabin to a categorical feature - MISSING, 1 Ocurrance, More than 1 Ocurrance"
   ]
  },
  {
   "cell_type": "code",
   "execution_count": 27,
   "metadata": {},
   "outputs": [
    {
     "name": "stdout",
     "output_type": "stream",
     "text": [
      "cat_cabin==`0`: survival_odds = 0.434 (full count 413)\n",
      "cat_cabin==`1`: survival_odds = 1.222 (full count 80)\n",
      "cat_cabin==`2`: survival_odds = 1.889 (full count 26)\n",
      "cat_cabin==`3`: survival_odds = 2.750 (full count 15)\n"
     ]
    }
   ],
   "source": [
    "def CABIN_TO_CAT(cabin_srs: pd.Series)->pd.Series:\n",
    "    \"\"\"\n",
    "    Given cabin series convert each cabin to the number of times it occurs in the list\n",
    "    give 0 for missing values\n",
    "    \"\"\"\n",
    "    cabin_dict = breakdown_by_category(pd.DataFrame(cabin_srs), cabin_srs.name, verbose=False)\n",
    "    \n",
    "    new_cabin_list = []\n",
    "    \n",
    "    for i_cab, cur_cab_val in enumerate(cabin_srs):\n",
    "        if type(cur_cab_val) == str:\n",
    "            cur_val = cabin_dict[cur_cab_val]\n",
    "        else:\n",
    "            cur_val = 0\n",
    "        \n",
    "        new_cabin_list.append(cur_val)\n",
    "            \n",
    "    return pd.Series(new_cabin_list)\n",
    "\n",
    "# what are the odds of survival based on cat_cabin representation\n",
    "TRAIN_CAT_CABIN_SRS = CABIN_TO_CAT(TRAIN_DF.Cabin)\n",
    "\n",
    "cat_cabin_vocab = TRAIN_CAT_CABIN_SRS.unique()\n",
    "\n",
    "for cat_cabin_val in cat_cabin_vocab:\n",
    "    il_cur = (TRAIN_CAT_CABIN_SRS==cat_cabin_val).values\n",
    "    \n",
    "    count_lived = sum(TRAIN_LABEL[il_cur] == 1)\n",
    "    count_perished = sum(TRAIN_LABEL[il_cur] == 0)\n",
    "    \n",
    "    if count_perished > 0:\n",
    "        print(f'cat_cabin==`{cat_cabin_val}`: survival_odds = {(count_lived/count_perished):.3f} (full count {sum(il_cur)})')\n",
    "    else:\n",
    "        print(f'cat_cabin==`{cat_cabin_val}`: survival_odds = invalid (full count {sum(il_cur)})')"
   ]
  },
  {
   "cell_type": "markdown",
   "metadata": {},
   "source": [
    "It would seem that survival odds for those with missing cabins were significantly lower than for those with cabins. Also it seems that odds of survival increased, with the more people there were per cabin, but it is hard to compare due to very different record distribution"
   ]
  },
  {
   "cell_type": "code",
   "execution_count": 28,
   "metadata": {},
   "outputs": [],
   "source": [
    "NAIVE_CLASSIFIERS['naive_Cabin'] = lambda features_df: np.array(features_df.Cabin.isnull()==False, dtype=int)"
   ]
  },
  {
   "cell_type": "markdown",
   "metadata": {},
   "source": [
    "Another approach is to consider the deck of the ticket."
   ]
  },
  {
   "cell_type": "code",
   "execution_count": 29,
   "metadata": {},
   "outputs": [
    {
     "name": "stdout",
     "output_type": "stream",
     "text": [
      "deck==`MISSING`: survival_odds = 0.434 (full count 413)\n",
      "deck==`A`: survival_odds = 1.333 (full count 7)\n",
      "deck==`D`: survival_odds = 2.000 (full count 21)\n",
      "deck==`F`: survival_odds = 1.200 (full count 11)\n",
      "deck==`C`: survival_odds = 0.750 (full count 35)\n",
      "deck==`B`: survival_odds = 2.111 (full count 28)\n",
      "deck==`E`: survival_odds = 3.500 (full count 18)\n",
      "deck==`G`: survival_odds = 0.000 (full count 1)\n"
     ]
    }
   ],
   "source": [
    "def CABIN_TO_DECK(cabin_srs: pd.Series)->pd.Series:\n",
    "    res = pd.Series([\n",
    "        cab[0] if (type(cab)==str and len(cab)>0) else 'MISSING' for cab in cabin_srs\n",
    "    ])\n",
    "    #\n",
    "    res.name = 'deck'\n",
    "    return res\n",
    "    \n",
    "###############\n",
    "\n",
    "deck_srs = CABIN_TO_DECK(TRAIN_DF.Cabin)\n",
    "deck_vocab = deck_srs.unique()\n",
    "\n",
    "for deck_name in deck_vocab:\n",
    "    count_lived = sum( TRAIN_LABEL[deck_srs == deck_name] == 1 )\n",
    "    count_perished = sum( TRAIN_LABEL[deck_srs == deck_name] == 0 )\n",
    "    \n",
    "    if count_perished > 0:\n",
    "        print(f'deck==`{deck_name}`: survival_odds = {(count_lived/count_perished):.3f} (full count {count_lived + count_perished})')\n",
    "    else:\n",
    "        print(f'deck==`{deck_name}`: survival_odds = invalid (full count {count_lived + count_perished})')"
   ]
  },
  {
   "cell_type": "markdown",
   "metadata": {},
   "source": [
    "So the worst odds of survival are for the missing decks `MISSING` and `A`"
   ]
  },
  {
   "cell_type": "code",
   "execution_count": 30,
   "metadata": {},
   "outputs": [],
   "source": [
    "def naive_deck_classifier(features_df: pd.Series)->np.ndarray:\n",
    "    cabin_srs = CABIN_TO_DECK(features_df.Cabin)\n",
    "    \n",
    "    pred_survived = np.ones(len(cabin_srs), dtype=int)\n",
    "    pred_survived[cabin_srs == 'MISSING'] = 0\n",
    "    pred_survived[cabin_srs == 'A'] = 0\n",
    "    pred_survived[cabin_srs == 'F'] = 0\n",
    "    \n",
    "    return pred_survived\n",
    "\n",
    "NAIVE_CLASSIFIERS['naive_Deck'] = naive_deck_classifier"
   ]
  },
  {
   "cell_type": "markdown",
   "metadata": {},
   "source": [
    "### Feature Embarked"
   ]
  },
  {
   "cell_type": "markdown",
   "metadata": {},
   "source": [
    "Place from which people embarked: C = Cherbourg, Q = Queenstown, S = Southampton"
   ]
  },
  {
   "cell_type": "code",
   "execution_count": 31,
   "metadata": {},
   "outputs": [
    {
     "name": "stdout",
     "output_type": "stream",
     "text": [
      "Full record count:  891\n",
      "Breakdown by label values of `Embarked`: \n",
      "\tEmbarked==`MISSING`: 2 records (0.2% of total)\n",
      "\tEmbarked==`S`: 644 records (72.3% of total)\n",
      "\tEmbarked==`C`: 168 records (18.9% of total)\n",
      "\tEmbarked==`Q`: 77 records (8.6% of total)\n"
     ]
    }
   ],
   "source": [
    "tgt_feat = 'Embarked'\n",
    "\n",
    "_ = breakdown_by_category(TITANIC_DF, tgt_feat)"
   ]
  },
  {
   "cell_type": "markdown",
   "metadata": {},
   "source": [
    "Just two records missing, so not too important to worry about them here"
   ]
  },
  {
   "cell_type": "code",
   "execution_count": 32,
   "metadata": {},
   "outputs": [
    {
     "name": "stdout",
     "output_type": "stream",
     "text": [
      "EMBARKED==`C`: survival_odds = 0.980 (full count 99)\n",
      "EMBARKED==`S`: survival_odds = 0.502 (full count 383)\n",
      "EMBARKED==`Q`: survival_odds = 0.562 (full count 50)\n",
      "EMBARKED==`M`: survival_odds = invalid (full count 2)\n"
     ]
    }
   ],
   "source": [
    "# fill missing\n",
    "TRAIN_IMP_EMBARKED = TRAIN_DF.Embarked.fillna(value='M')\n",
    "embarked_vocab = TRAIN_IMP_EMBARKED.unique()\n",
    "\n",
    "for embarked_val in embarked_vocab:\n",
    "    il_cur = (TRAIN_IMP_EMBARKED==embarked_val).values\n",
    "    \n",
    "    count_lived = sum(TRAIN_LABEL[il_cur] == 1)\n",
    "    count_perished = sum(TRAIN_LABEL[il_cur] == 0)\n",
    "    \n",
    "    if count_perished > 0:\n",
    "        print(f'EMBARKED==`{embarked_val}`: survival_odds = {(count_lived/count_perished):.3f} (full count {sum(il_cur)})')\n",
    "    else:\n",
    "        print(f'EMBARKED==`{embarked_val}`: survival_odds = invalid (full count {sum(il_cur)})')"
   ]
  },
  {
   "cell_type": "markdown",
   "metadata": {},
   "source": [
    "One can see that, compared to others, people from Cherbourg had much better chance of survival"
   ]
  },
  {
   "cell_type": "code",
   "execution_count": 33,
   "metadata": {},
   "outputs": [],
   "source": [
    "NAIVE_CLASSIFIERS['naive_Embarked'] = lambda features_df: np.array(features_df.Embarked=='C', dtype=int)"
   ]
  },
  {
   "cell_type": "markdown",
   "metadata": {},
   "source": [
    "## Test naive classifiers"
   ]
  },
  {
   "cell_type": "code",
   "execution_count": 34,
   "metadata": {},
   "outputs": [
    {
     "name": "stdout",
     "output_type": "stream",
     "text": [
      "            all_live: \tprec=0.406, rec=1.000\n",
      "        naive_Pclass: \tprec=0.724, rec=0.434\n",
      "           naive_Sex: \tprec=0.713, rec=0.669\n",
      "           naive_Age: \tprec=0.536, rec=0.103\n",
      "         naive_SibSp: \tprec=0.570, rec=0.366\n",
      "         naive_Parch: \tprec=0.491, rec=0.186\n",
      "          naive_Fare: \tprec=0.482, rec=0.821\n",
      "         naive_Cabin: \tprec=0.771, rec=0.441\n",
      "          naive_Deck: \tprec=0.808, rec=0.407\n",
      "      naive_Embarked: \tprec=0.638, rec=0.303\n",
      "       random_chance: \tprec=0.406, rec=0.500\n"
     ]
    },
    {
     "data": {
      "text/plain": [
       "(-0.05, 1.05)"
      ]
     },
     "execution_count": 34,
     "metadata": {},
     "output_type": "execute_result"
    },
    {
     "data": {
      "image/png": "[encoded data removed]",
      "text/plain": [
       "<Figure size 576x432 with 1 Axes>"
      ]
     },
     "metadata": {
      "needs_background": "light"
     },
     "output_type": "display_data"
    }
   ],
   "source": [
    "naive_prec_rec_dict_list = []\n",
    "\n",
    "for nc_name, nc_func in NAIVE_CLASSIFIERS.items():\n",
    "    predicted_label = nc_func(TEST_DF)\n",
    "    \n",
    "    precision, recall, _, _ = sk.metrics.precision_recall_fscore_support(y_true=TEST_LABEL, y_pred=predicted_label, average='binary')\n",
    "    print(f'{nc_name:>20}: \\tprec={precision:.3f}, rec={recall:.3f}')\n",
    "    \n",
    "    naive_prec_rec_dict_list.append({\n",
    "        'nc_name': nc_name,\n",
    "        'precision': precision,\n",
    "        'recall': recall\n",
    "    })\n",
    "    \n",
    "# extra one for random chance\n",
    "rnd_name = 'random_chance'\n",
    "rnd_prec = sum(TEST_LABEL)/len(TEST_LABEL)\n",
    "rnd_rec = 0.5\n",
    "naive_prec_rec_dict_list.append({\n",
    "        'nc_name': 'random_chance',\n",
    "        'precision': rnd_prec,\n",
    "        'recall': rnd_rec\n",
    "    })\n",
    "print(f'{rnd_name:>20}: \\tprec={rnd_prec:.3f}, rec={rnd_rec:.3f}')\n",
    "    \n",
    "naive_prec_rec_df = pd.DataFrame(naive_prec_rec_dict_list)\n",
    "naive_prec_rec_df.to_pickle('naive_precision_recall.pkl')\n",
    "# plot the naive classifiers\n",
    "fig, ax = pp.subplots(figsize=(8, 6))\n",
    "\n",
    "ax.plot(naive_prec_rec_df.recall, naive_prec_rec_df.precision, 'o')\n",
    "ax.set_xlabel('recall')\n",
    "ax.set_ylabel('precision')\n",
    "ax.grid()\n",
    "ax.set_title('Naive classifiers')\n",
    "ax.set_xlim([-0.05, 1.05])\n",
    "ax.set_ylim([-0.05, 1.05])"
   ]
  }
 ],
 "metadata": {
  "kernelspec": {
   "display_name": "Python 3",
   "language": "python",
   "name": "python3"
  },
  "language_info": {
   "codemirror_mode": {
    "name": "ipython",
    "version": 3
   },
   "file_extension": ".py",
   "mimetype": "text/x-python",
   "name": "python",
   "nbconvert_exporter": "python",
   "pygments_lexer": "ipython3",
   "version": "3.6.10"
  }
 },
 "nbformat": 4,
 "nbformat_minor": 4
}
